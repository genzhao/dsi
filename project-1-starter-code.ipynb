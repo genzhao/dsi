{
 "cells": [
  {
   "cell_type": "markdown",
   "metadata": {},
   "source": [
    "<img src=\"http://i.imgur.com/1ZcRyrc.png\" style=\"float: left; margin: 15px; height: 80px\">\n",
    "\n",
    "# Project 1\n",
    "\n",
    "### Building \"Pokemon Stay\"\n",
    "\n",
    "---\n",
    "\n",
    "After reading the gushing praise for Pokemon Go you decide to download it and try it out for yourself. Yet a couple hours of play later you find yourself disappointed by the fact that you _actually_ have to move around outside.\n",
    "\n",
    "Though just a beginner programmer, you decide to make your own iteration on the genre: \"Pokemon Stay\". In this version players still need to move, but just from website to website. Pokemon gyms are now popular cyber-destinations, and catching pokemon in the \"wild\" simply requires browsing the internet for hours in the comfort of your home. \n",
    "\n",
    "---\n",
    "\n",
    "#### Package imports \n",
    "\n",
    "The `pprint` package below is the only package imported here, and it's not even strictly required to do any of the project. Printing python variables and objects with pprint can help to format them in a \"prettier\" way."
   ]
  },
  {
   "cell_type": "code",
   "execution_count": 373,
   "metadata": {
    "collapsed": true
   },
   "outputs": [],
   "source": [
    "from pprint import pprint"
   ]
  },
  {
   "cell_type": "markdown",
   "metadata": {},
   "source": [
    "<img src=http://i.imgur.com/l5NasQj.png style=\"float: left; margin: 25px 15px 0px 0px; height: 25px\">\n",
    "\n",
    "## 1. Defining a player\n",
    "\n",
    "---\n",
    "\n",
    "The player variables are:\n",
    "\n",
    "    player_id : id code unique to each player (integer)\n",
    "    player_name : entered name of the player (string)\n",
    "    time_played : number of time played the game in minutes (float)\n",
    "    player_pokemon: the player's captured pokemon (dictionary)\n",
    "    gyms_visited: ids of the gyms that a player has visited (list)\n",
    "    \n",
    "Create a player. The dictionary and list variables should just be defined as empty at this point."
   ]
  },
  {
   "cell_type": "code",
   "execution_count": 15,
   "metadata": {
    "collapsed": false
   },
   "outputs": [
    {
     "name": "stdout",
     "output_type": "stream",
     "text": [
      "1\n"
     ]
    }
   ],
   "source": [
    "player_id = (1)\n",
    "player_name = ('gene')\n",
    "time_played = (0.1)\n",
    "player_pokemon = {}\n",
    "gyms_visited = []\n",
    "\n",
    "print player_id"
   ]
  },
  {
   "cell_type": "markdown",
   "metadata": {},
   "source": [
    "<img src=\"http://imgur.com/l5NasQj.png\" style=\"float: left; margin: 25px 15px 0px 0px; height: 25px\">\n",
    "\n",
    "## 2. Defining \"gym\" locations\n",
    "\n",
    "---\n",
    "\n",
    "As the sole programmer, Pokemon Stay will have to start small. To begin, there will be 10 different gym location websites on the internet. The gym locations are:\n",
    "\n",
    "    1. 'reddit.com'\n",
    "    2. 'amazon.com'\n",
    "    3. 'twitter.com'\n",
    "    4. 'linkedin.com'\n",
    "    5. 'ebay.com'\n",
    "    6. 'netflix.com'\n",
    "    7. 'udacity.com'\n",
    "    8. 'stackoverflow.com'\n",
    "    9. 'github.com'\n",
    "    10. 'quora.com'\n",
    "\n",
    "1. Set up a list of all the gym locations. This will be a list of strings.\n",
    "2. Append two of these locations to your player's list of visited gyms.\n",
    "3. Print the list."
   ]
  },
  {
   "cell_type": "code",
   "execution_count": 16,
   "metadata": {
    "collapsed": false
   },
   "outputs": [
    {
     "name": "stdout",
     "output_type": "stream",
     "text": [
      "['reddit.com', 'amazon.com', 'twitter.com', 'linkedin.com', 'ebay.com', 'netflix.com', 'udacity.com', 'stackoverflow.com', 'github.com', 'quora.com']\n"
     ]
    }
   ],
   "source": [
    "# Example output:\n",
    "# \n",
    "# ['amazon.com', 'ebay.com']\n",
    "\n",
    "pokemon_gym = ['reddit.com','amazon.com','twitter.com','linkedin.com','ebay.com','netflix.com','udacity.com','stackoverflow.com','github.com',\n",
    "    'quora.com']\n",
    "print pokemon_gym"
   ]
  },
  {
   "cell_type": "markdown",
   "metadata": {},
   "source": [
    "<img src=\"http://imgur.com/l5NasQj.png\" style=\"float: left; margin: 25px 15px 0px 0px; height: 25px\">\n",
    "\n",
    "## 3. Create a pokedex\n",
    "\n",
    "---\n",
    "\n",
    "We also need to create some pokemon to catch. Each pokemon will be defined by these variables:\n",
    "\n",
    "    pokemon_id : unique identifier for each pokemon (integer)\n",
    "    name : the name of the pokemon (string)\n",
    "    type : the category of pokemon (string)\n",
    "    hp : base hitpoints (integer)\n",
    "    attack : base attack (integer)\n",
    "    defense : base defense (integer)\n",
    "    special_attack : base special attack (integer)\n",
    "    special_defense : base sepecial defense (integer)\n",
    "    speed : base speed (integer)\n",
    "\n",
    "We are only going to create 3 different pokemon with these `pokemon_id` and `pokemon_name` values:\n",
    "\n",
    "    1 : 'charmander'\n",
    "    2 : 'squirtle'\n",
    "    3 : 'bulbasaur'\n",
    "\n",
    "Create a dictionary that will contain the pokemon. The keys of the dictionary will be the `pokemon_id` and the values will themselves dictionaries that contain the other pokemon variables. The structure of the pokedex dictionary will start like so:\n",
    "     \n",
    "     {\n",
    "         1: {\n",
    "                 'name':'charmander',\n",
    "                 'type':'fire',\n",
    "                 ...\n",
    "                 \n",
    "The `type` of charmander, squirtle, and bulbasaur should be `'fire'`, `'water'`, and `'poison'` respectively. The other values are up to you, make them anything you like!\n",
    "\n",
    "Print the pokedex dictionary with the 3 pokemon."
   ]
  },
  {
   "cell_type": "code",
   "execution_count": 17,
   "metadata": {
    "collapsed": false
   },
   "outputs": [
    {
     "name": "stdout",
     "output_type": "stream",
     "text": [
      "{1: {'attack': 10, 'defense': 10, 'name': 'bulbasaur', 'special_attack': 10, 'speed': 10, 'hp': 10, 'type': 'poison', 'special_defense': 10}, 2: {'attack': 11, 'defense': 11, 'name': 'squirtle', 'special_attack': 11, 'speed': 11, 'hp': 11, 'type': 'water', 'special_defense': 11}, 3: {'attack': 13, 'defense': 13, 'name': 'charmander', 'special_attack': 13, 'speed': 13, 'hp': 13, 'type': 'fire', 'special_defense': 13}}\n"
     ]
    }
   ],
   "source": [
    "# No example output... too similar to the answer!\n",
    "pokedex = {1: {\n",
    "        'name':'bulbasaur',\n",
    "        'type':'poison',\n",
    "        'hp':10,\n",
    "        'attack':10,\n",
    "        'defense':10,\n",
    "        'special_attack':10,\n",
    "        'special_defense':10,\n",
    "        'speed':10},\n",
    "           2: {\n",
    "        'name':'squirtle',\n",
    "        'type':'water',\n",
    "        'hp':11,\n",
    "        'attack':11,\n",
    "        'defense':11,\n",
    "        'special_attack':11,\n",
    "        'special_defense':11,\n",
    "        'speed':11},\n",
    "           3: {\n",
    "        'name':'charmander',\n",
    "        'type':'fire',\n",
    "        'hp':13,\n",
    "        'attack':13,\n",
    "        'defense':13,\n",
    "        'special_attack':13,\n",
    "        'special_defense':13,\n",
    "        'speed':13}\n",
    "          }\n",
    "        \n",
    "print pokedex\n",
    "\n",
    "\n"
   ]
  },
  {
   "cell_type": "markdown",
   "metadata": {},
   "source": [
    "<img src=\"http://imgur.com/l5NasQj.png\" style=\"float: left; margin: 25px 15px 0px 0px; height: 25px\">\n",
    "\n",
    "## 4. Create a data structure for players\n",
    "\n",
    "---\n",
    "\n",
    "### 4.1 \n",
    "\n",
    "In order to maintain a database of multiple players, create a dictionary that keeps track of players indexed by `player_id`. \n",
    "\n",
    "The keys of the dictionary will be `player_id` and values will be dictionaries containing each player's variables (from question 1). **The values in the player's dictionary will be the variables you assigned in question 1.**\n",
    "\n",
    "Construct the `players` dictionary and insert the player that you defined in question 1, then print `players`."
   ]
  },
  {
   "cell_type": "code",
   "execution_count": 18,
   "metadata": {
    "collapsed": false
   },
   "outputs": [
    {
     "name": "stdout",
     "output_type": "stream",
     "text": [
      "{1: {'time_played': 0.1, 'gyms_visited': ['reddit.com', 'linkedin.com', 'netflix.com'], 'player_name': 'gene', 'player_pokemon': {}}}\n"
     ]
    }
   ],
   "source": [
    "# Example output from print:\n",
    "#\n",
    "# {1: {'gyms_visited': ['amazon.com', 'ebay.com'],\n",
    "#      'player_name': 'Ash',\n",
    "#      'player_pokemon': {},\n",
    "#      'time_played': 0.0}}\n",
    "\n",
    "players = {1: \n",
    "           {'gyms_visited':['reddit.com','linkedin.com','netflix.com'],\n",
    "            'player_name':'gene',\n",
    "            'player_pokemon':{},\n",
    "            'time_played' : 0.1\n",
    "            }}\n",
    "\n",
    "print players"
   ]
  },
  {
   "cell_type": "markdown",
   "metadata": {},
   "source": [
    "---\n",
    "\n",
    "### 4.2\n",
    "\n",
    "Create a new player with `player_id = 2` in the `players` dictionary. Leave the `'player_pokemon'` dictionary empty. Append `'stackoverflow.com'` and `'github.com'` to the `'gyms_visited'` list for player 2.\n",
    "\n",
    "The `'player_name'` and `'time_played'` values are up to you, but must be a string and float, respectively.\n",
    "\n",
    "Remember, the player_id is the key for the player in the players dictionary.\n",
    "\n",
    "Print the `players` dictionary with the new player inserted."
   ]
  },
  {
   "cell_type": "code",
   "execution_count": 19,
   "metadata": {
    "collapsed": false
   },
   "outputs": [],
   "source": [
    "# No example output. \n",
    "player_id = (2)\n",
    "player_name = ('jean')\n",
    "time_played = (0.2)\n",
    "player_pokemon = {}\n",
    "gyms_visited = ['stackoverflow.com','github.com']\n",
    "\n"
   ]
  },
  {
   "cell_type": "markdown",
   "metadata": {},
   "source": [
    "<img src=\"http://imgur.com/l5NasQj.png\" style=\"float: left; margin: 25px 15px 0px 0px; height: 25px\">\n",
    "\n",
    "## 5. Add captured pokemon for each player\n",
    "\n",
    "---\n",
    "\n",
    "The `'player_pokemon'` keyed dictionaries for each player keep track of which of the pokemon each player has.\n",
    "\n",
    "The keys of the `'player_pokemon'` dictionaries are the pokemon ids that correspond to the ids in the `pokedex` dictionary you created earlier. The values are integers specifying the stats for the pokemon.\n",
    "\n",
    "Give player 1 a squirtle. Give player 2 charmander and a bulbasaur.\n",
    "\n",
    "Print the players dictionary after adding the pokemon for each player.\n"
   ]
  },
  {
   "cell_type": "code",
   "execution_count": 20,
   "metadata": {
    "collapsed": false
   },
   "outputs": [
    {
     "name": "stdout",
     "output_type": "stream",
     "text": [
      "{1: {'time_played': 0.1, 'gyms_visited': ['reddit.com', 'linkedin.com', 'netflix.com'], 'player_name': 'gene', 'player_pokemon': set(['squirtle'])}, 2: {'time_played': 0.2, 'gyms_visited': ['stackoverflow.com', 'github.com'], 'player_name': 'jean', 'player_pokemon': set(['bulbasaur', 'charmander'])}}\n",
      "<type 'dict'>\n"
     ]
    }
   ],
   "source": [
    "# Example output from print:\n",
    "#\n",
    "# {1: {'gyms_visited': ['amazon.com', 'ebay.com'],\n",
    "#      'player_name': 'Ash',\n",
    "#      'player_pokemon': {2: ...squirtle dictionary...},\n",
    "#      'time_played': 0.0},\n",
    "#  2: {'gyms_visited': ['stackoverflow.com', 'github.com'],\n",
    "#      'player_name': 'Brock',\n",
    "#      'player_pokemon': {1: ...charmander dictionary..., 3: ...bulbasaur dictionary...},\n",
    "#      'time_played': 10.0}}\n",
    "\n",
    "players = {1:{'gyms_visited':['reddit.com','linkedin.com','netflix.com'],\n",
    "            'player_name':'gene',\n",
    "            'player_pokemon':{'squirtle'},\n",
    "            'time_played' : 0.1},\n",
    "           2:{'gyms_visited':['stackoverflow.com','github.com'],\n",
    "            'player_name':'jean',\n",
    "            'player_pokemon':{'charmander','bulbasaur'},\n",
    "            'time_played' : 0.2}\n",
    "          }\n",
    " \n",
    "print players\n",
    "print (type(players))\n"
   ]
  },
  {
   "cell_type": "markdown",
   "metadata": {},
   "source": [
    "<img src=\"http://imgur.com/l5NasQj.png\" style=\"float: left; margin: 25px 15px 0px 0px; height: 25px\">\n",
    "\n",
    "## 6. What gyms have players visited?\n",
    "\n",
    "---\n",
    "\n",
    "Write a for-loop that:\n",
    "\n",
    "1. Iterates through the `pokemon_gyms` list of gym locations you defined before.\n",
    "2. For each gym, iterate through each player in the `players` dictionary with a second, internal for-loop.\n",
    "3. If the player has visited the gym, print out \"[player] has visited [gym location].\", filling in [player] and [gym location] with the current player's name and current gym location."
   ]
  },
  {
   "cell_type": "code",
   "execution_count": 21,
   "metadata": {
    "collapsed": false
   },
   "outputs": [
    {
     "name": "stdout",
     "output_type": "stream",
     "text": [
      "[{'time_played': 0.1, 'gyms_visited': ['reddit.com', 'linkedin.com', 'netflix.com'], 'player_name': 'gene', 'player_pokemon': set(['squirtle'])}, {'time_played': 0.2, 'gyms_visited': ['stackoverflow.com', 'github.com'], 'player_name': 'jean', 'player_pokemon': set(['bulbasaur', 'charmander'])}]\n"
     ]
    }
   ],
   "source": [
    "players.keys()\n",
    "print players.values()\n"
   ]
  },
  {
   "cell_type": "code",
   "execution_count": 22,
   "metadata": {
    "collapsed": false
   },
   "outputs": [
    {
     "name": "stdout",
     "output_type": "stream",
     "text": [
      "gene has visited reddit.com\n",
      "gene has visited linkedin.com\n",
      "gene has visited netflix.com\n",
      "jean has visited stackoverflow.com\n",
      "jean has visited github.com\n"
     ]
    }
   ],
   "source": [
    "\n",
    "for gym in pokemon_gym:\n",
    "    for p in players:\n",
    "        for a in players[p]['gyms_visited']:\n",
    "            if gym == a:\n",
    "                print players[p]['player_name'] + ' has visited ' + gym\n"
   ]
  },
  {
   "cell_type": "markdown",
   "metadata": {},
   "source": [
    "<img src=\"http://imgur.com/l5NasQj.png\" style=\"float: left; margin: 25px 15px 0px 0px; height: 25px\">\n",
    "\n",
    "## 7. Calculate player \"power\".\n",
    "\n",
    "---\n",
    "\n",
    "Define a function that will calculate a player's \"power\". Player power is defined as the sum of the base statistics all of their pokemon.\n",
    "\n",
    "Your function will:\n",
    "\n",
    "1. Accept the `players` dictionary, `pokedex` dictionary, and a player_id as arguments.\n",
    "2. For the specified player_id, look up that player's pokemon and their level(s).\n",
    "3. Find and aggregate the attack and defense values for each of the player's pokemon from the `pokedex` dictionary.\n",
    "4. Print \"[player name]'s power is [player power].\", where the player power is the sum of the base statistics for all of their pokemon.\n",
    "5. Return the player's power value.\n",
    "\n",
    "Print out the pokemon power for each of your players."
   ]
  },
  {
   "cell_type": "code",
   "execution_count": 40,
   "metadata": {
    "collapsed": false
   },
   "outputs": [
    {
     "name": "stdout",
     "output_type": "stream",
     "text": [
      "gene's power is 22\n"
     ]
    }
   ],
   "source": [
    "def power(player_dict, pokedex_dict, player_id):\n",
    "    power_value = 0\n",
    "    for poke in players[player_id]['player_pokemon']:\n",
    "        for a in pokedex:\n",
    "            if poke == pokedex[a]['name']:\n",
    "                power_value += pokedex[a]['attack'] + pokedex[a]['defense']\n",
    "    return (players[player_id]['player_name'] + \"'s power is \" + str(power_value))\n",
    "    \n",
    "\n",
    "print power(players, pokedex, 1)"
   ]
  },
  {
   "cell_type": "markdown",
   "metadata": {
    "collapsed": true
   },
   "source": [
    "## <img src=\"http://imgur.com/GCAf1UX.png\" style=\"float: left; margin: 25px 15px 0px 0px; height: 25px\">\n",
    "\n",
    "## 8. Load a pokedex file containing all the pokemon\n",
    "\n",
    "---\n",
    "\n",
    "### 8.1\n",
    "\n",
    "Now we have access to the raw base stats on all of the pokemon, scraped from the web.\n",
    "\n",
    "The provided code below loads information from a comma separated value (csv) file. You need to parse this string into a more useable format. The format of the string is:\n",
    "\n",
    "- Rows are separated by newline characters: \\n\n",
    "- Columns are separated by commas: ,\n",
    "- All cells in the csv are double quoted. Ex: \"PokedexNumber\" is the first cell of the first row.\n",
    "\n",
    "Using for-loops, create a list of lists where each list within the overall list is a row of the csv/matrix, and each element in that list is a cell in that row. Additional criteria:\n",
    "\n",
    "1. Quotes are removed from each cell item.\n",
    "2. Numeric column values are converted to floats.\n",
    "3. There are some cells that are empty and have no information. For these cells put a -1 value in place.\n",
    "\n",
    "The first three lists in your pokedex list should look like so:\n",
    "\n",
    "    ['PokedexNumber', 'Name', 'Type', 'Total', 'HP', 'Attack', 'Defense', 'SpecialAttack', 'SpecialDefense', 'Speed']\n",
    "    [1.0, 'Bulbasaur', 'GrassPoison', 318.0, 45.0, 49.0, 49.0, 65.0, 65.0, 45.0]\n",
    "    [2.0, 'Ivysaur', 'GrassPoison', 405.0, 60.0, 62.0, 63.0, 80.0, 80.0, 60.0]"
   ]
  },
  {
   "cell_type": "code",
   "execution_count": 2,
   "metadata": {
    "collapsed": false
   },
   "outputs": [],
   "source": [
    "# Code to read in pokedex info\n",
    "raw_pd = ''\n",
    "pokedex_file = '/Users/Gene/Desktop/gzdsi7/datasets/pokemon/pokedex_basic.csv'\n",
    "with open(pokedex_file, 'r') as f:\n",
    "    raw_pd = f.read()\n",
    "# the pokedex string is assigned to the raw_pd variable\n",
    "\n"
   ]
  },
  {
   "cell_type": "code",
   "execution_count": 3,
   "metadata": {
    "collapsed": false,
    "scrolled": false
   },
   "outputs": [
    {
     "name": "stdout",
     "output_type": "stream",
     "text": [
      "[['PokedexNumber', 'Name', 'Type', 'Total', 'HP', 'Attack', 'Defense', 'SpecialAttack', 'SpecialDefense', 'Speed'], [1.0, 'Bulbasaur', 'GrassPoison', 318.0, 45.0, 49.0, 49.0, 65.0, 65.0, 45.0], [2.0, 'Ivysaur', 'GrassPoison', 405.0, 60.0, 62.0, 63.0, 80.0, 80.0, 60.0], [3.0, 'Venusaur', 'GrassPoison', 525.0, 80.0, 82.0, 83.0, 100.0, 100.0, 80.0], [3.0, 'VenusaurMega Venusaur', 'GrassPoison', 625.0, 80.0, 100.0, 123.0, 122.0, 120.0, 80.0], [4.0, 'Charmander', 'Fire', 309.0, 39.0, 52.0, 43.0, 60.0, 50.0, 65.0], [5.0, 'Charmeleon', 'Fire', 405.0, 58.0, 64.0, 58.0, 80.0, 65.0, 80.0], [6.0, 'Charizard', 'FireFlying', 534.0, 78.0, 84.0, 78.0, 109.0, 85.0, 100.0], [6.0, 'CharizardMega Charizard X', 'FireDragon', 634.0, 78.0, 130.0, 111.0, 130.0, 85.0, 100.0], [6.0, 'CharizardMega Charizard Y', 'FireFlying', 634.0, 78.0, 104.0, 78.0, 159.0, 115.0, 100.0], [7.0, 'Squirtle', 'Water', 314.0, 44.0, 48.0, 65.0, 50.0, 64.0, 43.0], [8.0, 'Wartortle', 'Water', 405.0, 59.0, 63.0, 80.0, 65.0, 80.0, 58.0], [9.0, 'Blastoise', 'Water', 530.0, 79.0, 83.0, 100.0, 85.0, 105.0, 78.0], [9.0, 'BlastoiseMega Blastoise', 'Water', 630.0, 79.0, 103.0, 120.0, 135.0, 115.0, 78.0], [10.0, 'Caterpie', 'Bug', 195.0, 45.0, 30.0, 35.0, 20.0, 20.0, 45.0], [11.0, 'Metapod', 'Bug', 205.0, 50.0, 20.0, 55.0, 25.0, 25.0, 30.0], [12.0, 'Butterfree', 'BugFlying', 395.0, 60.0, 45.0, 50.0, 90.0, 80.0, 70.0], [13.0, 'Weedle', 'BugPoison', 195.0, 40.0, 35.0, 30.0, 20.0, 20.0, 50.0], [14.0, 'Kakuna', 'BugPoison', 205.0, 45.0, 25.0, 50.0, 25.0, 25.0, 35.0], [15.0, 'Beedrill', 'BugPoison', 395.0, 65.0, 90.0, 40.0, 45.0, 80.0, 75.0], [15.0, 'BeedrillMega Beedrill', 'BugPoison', 495.0, 65.0, 150.0, 40.0, 15.0, 80.0, 145.0], [16.0, 'Pidgey', 'NormalFlying', 251.0, 40.0, 45.0, 40.0, 35.0, 35.0, 56.0], [17.0, 'Pidgeotto', 'NormalFlying', 349.0, 63.0, 60.0, 55.0, 50.0, 50.0, 71.0], [18.0, 'Pidgeot', 'NormalFlying', 479.0, 83.0, 80.0, 75.0, 70.0, 70.0, 101.0], [18.0, 'PidgeotMega Pidgeot', 'NormalFlying', 579.0, 83.0, 80.0, 80.0, 135.0, 80.0, 121.0], [19.0, 'Rattata', 'Normal', 253.0, 30.0, 56.0, 35.0, 25.0, 35.0, 72.0], [20.0, 'Raticate', 'Normal', 413.0, 55.0, 81.0, 60.0, 50.0, 70.0, 97.0], [21.0, 'Spearow', 'NormalFlying', 262.0, 40.0, 60.0, 30.0, 31.0, 31.0, 70.0], [22.0, 'Fearow', 'NormalFlying', 442.0, 65.0, 90.0, 65.0, 61.0, 61.0, 100.0], [23.0, 'Ekans', 'Poison', 288.0, 35.0, 60.0, 44.0, 40.0, 54.0, 55.0], [24.0, 'Arbok', 'Poison', 438.0, 60.0, 85.0, 69.0, 65.0, 79.0, 80.0], [25.0, 'Pikachu', 'Electric', 320.0, 35.0, 55.0, 40.0, 50.0, 50.0, 90.0], [26.0, 'Raichu', 'Electric', 485.0, 60.0, 90.0, 55.0, 90.0, 80.0, 110.0], [27.0, 'Sandshrew', 'Ground', 300.0, 50.0, 75.0, 85.0, 20.0, 30.0, 40.0], [28.0, 'Sandslash', 'Ground', 450.0, 75.0, 100.0, 110.0, 45.0, 55.0, 65.0], [29.0, 'Nidoran\\xe2\\x99\\x80', 'Poison', 275.0, 55.0, 47.0, 52.0, 40.0, 40.0, 41.0], [30.0, 'Nidorina', 'Poison', 365.0, 70.0, 62.0, 67.0, 55.0, 55.0, 56.0], [31.0, 'Nidoqueen', 'PoisonGround', 505.0, 90.0, 92.0, 87.0, 75.0, 85.0, 76.0], [32.0, 'Nidoran\\xe2\\x99\\x82', 'Poison', 273.0, 46.0, 57.0, 40.0, 40.0, 40.0, 50.0], [33.0, 'Nidorino', 'Poison', 365.0, 61.0, 72.0, 57.0, 55.0, 55.0, 65.0], [34.0, 'Nidoking', 'PoisonGround', 505.0, 81.0, 102.0, 77.0, 85.0, 75.0, 85.0], [35.0, 'Clefairy', 'Fairy', 323.0, 70.0, 45.0, 48.0, 60.0, 65.0, 35.0], [36.0, 'Clefable', 'Fairy', 483.0, 95.0, 70.0, 73.0, 95.0, 90.0, 60.0], [37.0, 'Vulpix', 'Fire', 299.0, 38.0, 41.0, 40.0, 50.0, 65.0, 65.0], [38.0, 'Ninetales', 'Fire', 505.0, 73.0, 76.0, 75.0, 81.0, 100.0, 100.0], [39.0, 'Jigglypuff', 'NormalFairy', 270.0, 115.0, 45.0, 20.0, 45.0, 25.0, 20.0], [40.0, 'Wigglytuff', 'NormalFairy', 435.0, 140.0, 70.0, 45.0, 85.0, 50.0, 45.0], [41.0, 'Zubat', 'PoisonFlying', 245.0, 40.0, 45.0, 35.0, 30.0, 40.0, 55.0], [42.0, 'Golbat', 'PoisonFlying', 455.0, 75.0, 80.0, 70.0, 65.0, 75.0, 90.0], [43.0, 'Oddish', 'GrassPoison', 320.0, 45.0, 50.0, 55.0, 75.0, 65.0, 30.0], [44.0, 'Gloom', 'GrassPoison', 395.0, 60.0, 65.0, 70.0, 85.0, 75.0, 40.0], [45.0, 'Vileplume', 'GrassPoison', 490.0, 75.0, 80.0, 85.0, 110.0, 90.0, 50.0], [46.0, 'Paras', 'BugGrass', 285.0, 35.0, 70.0, 55.0, 45.0, 55.0, 25.0], [47.0, 'Parasect', 'BugGrass', 405.0, 60.0, 95.0, 80.0, 60.0, 80.0, 30.0], [48.0, 'Venonat', 'BugPoison', 305.0, 60.0, 55.0, 50.0, 40.0, 55.0, 45.0], [49.0, 'Venomoth', 'BugPoison', 450.0, 70.0, 65.0, 60.0, 90.0, 75.0, 90.0], [50.0, 'Diglett', 'Ground', 265.0, 10.0, 55.0, 25.0, 35.0, 45.0, 95.0], [51.0, 'Dugtrio', 'Ground', 405.0, 35.0, 80.0, 50.0, 50.0, 70.0, 120.0], [52.0, 'Meowth', 'Normal', 290.0, 40.0, 45.0, 35.0, 40.0, 40.0, 90.0], [53.0, 'Persian', 'Normal', 440.0, 65.0, 70.0, 60.0, 65.0, 65.0, 115.0], [54.0, 'Psyduck', 'Water', 320.0, 50.0, 52.0, 48.0, 65.0, 50.0, 55.0], [55.0, 'Golduck', 'Water', 500.0, 80.0, 82.0, 78.0, 95.0, 80.0, 85.0], [56.0, 'Mankey', 'Fighting', 305.0, 40.0, 80.0, 35.0, 35.0, 45.0, 70.0], [57.0, 'Primeape', 'Fighting', 455.0, 65.0, 105.0, 60.0, 60.0, 70.0, 95.0], [58.0, 'Growlithe', 'Fire', 350.0, 55.0, 70.0, 45.0, 70.0, 50.0, 60.0], [59.0, 'Arcanine', 'Fire', 555.0, 90.0, 110.0, 80.0, 100.0, 80.0, 95.0], [60.0, 'Poliwag', 'Water', 300.0, 40.0, 50.0, 40.0, 40.0, 40.0, 90.0], [61.0, 'Poliwhirl', 'Water', 385.0, 65.0, 65.0, 65.0, 50.0, 50.0, 90.0], [62.0, 'Poliwrath', 'WaterFighting', 510.0, 90.0, 95.0, 95.0, 70.0, 90.0, 70.0], [63.0, 'Abra', 'Psychic', 310.0, 25.0, 20.0, 15.0, 105.0, 55.0, 90.0], [64.0, 'Kadabra', 'Psychic', 400.0, 40.0, 35.0, 30.0, 120.0, 70.0, 105.0], [65.0, 'Alakazam', 'Psychic', 500.0, 55.0, 50.0, 45.0, 135.0, 95.0, 120.0], [65.0, 'AlakazamMega Alakazam', 'Psychic', 590.0, 55.0, 50.0, 65.0, 175.0, 95.0, 150.0], [66.0, 'Machop', 'Fighting', 305.0, 70.0, 80.0, 50.0, 35.0, 35.0, 35.0], [67.0, 'Machoke', 'Fighting', 405.0, 80.0, 100.0, 70.0, 50.0, 60.0, 45.0], [68.0, 'Machamp', 'Fighting', 505.0, 90.0, 130.0, 80.0, 65.0, 85.0, 55.0], [69.0, 'Bellsprout', 'GrassPoison', 300.0, 50.0, 75.0, 35.0, 70.0, 30.0, 40.0], [70.0, 'Weepinbell', 'GrassPoison', 390.0, 65.0, 90.0, 50.0, 85.0, 45.0, 55.0], [71.0, 'Victreebel', 'GrassPoison', 490.0, 80.0, 105.0, 65.0, 100.0, 70.0, 70.0], [72.0, 'Tentacool', 'WaterPoison', 335.0, 40.0, 40.0, 35.0, 50.0, 100.0, 70.0], [73.0, 'Tentacruel', 'WaterPoison', 515.0, 80.0, 70.0, 65.0, 80.0, 120.0, 100.0], [74.0, 'Geodude', 'RockGround', 300.0, 40.0, 80.0, 100.0, 30.0, 30.0, 20.0], [75.0, 'Graveler', 'RockGround', 390.0, 55.0, 95.0, 115.0, 45.0, 45.0, 35.0], [76.0, 'Golem', 'RockGround', 495.0, 80.0, 120.0, 130.0, 55.0, 65.0, 45.0], [77.0, 'Ponyta', 'Fire', 410.0, 50.0, 85.0, 55.0, 65.0, 65.0, 90.0], [78.0, 'Rapidash', 'Fire', 500.0, 65.0, 100.0, 70.0, 80.0, 80.0, 105.0], [79.0, 'Slowpoke', 'WaterPsychic', 315.0, 90.0, 65.0, 65.0, 40.0, 40.0, 15.0], [80.0, 'Slowbro', 'WaterPsychic', 490.0, 95.0, 75.0, 110.0, 100.0, 80.0, 30.0], [80.0, 'SlowbroMega Slowbro', 'WaterPsychic', 590.0, 95.0, 75.0, 180.0, 130.0, 80.0, 30.0], [81.0, 'Magnemite', 'ElectricSteel', 325.0, 25.0, 35.0, 70.0, 95.0, 55.0, 45.0], [82.0, 'Magneton', 'ElectricSteel', 465.0, 50.0, 60.0, 95.0, 120.0, 70.0, 70.0], [83.0, \"Farfetch'd\", 'NormalFlying', 352.0, 52.0, 65.0, 55.0, 58.0, 62.0, 60.0], [84.0, 'Doduo', 'NormalFlying', 310.0, 35.0, 85.0, 45.0, 35.0, 35.0, 75.0], [85.0, 'Dodrio', 'NormalFlying', 460.0, 60.0, 110.0, 70.0, 60.0, 60.0, 100.0], [86.0, 'Seel', 'Water', 325.0, 65.0, 45.0, 55.0, 45.0, 70.0, 45.0], [87.0, 'Dewgong', 'WaterIce', 475.0, 90.0, 70.0, 80.0, 70.0, 95.0, 70.0], [88.0, 'Grimer', 'Poison', 325.0, 80.0, 80.0, 50.0, 40.0, 50.0, 25.0], [89.0, 'Muk', 'Poison', 500.0, 105.0, 105.0, 75.0, 65.0, 100.0, 50.0], [90.0, 'Shellder', 'Water', 305.0, 30.0, 65.0, 100.0, 45.0, 25.0, 40.0], [91.0, 'Cloyster', 'WaterIce', 525.0, 50.0, 95.0, 180.0, 85.0, 45.0, 70.0], [92.0, 'Gastly', 'GhostPoison', 310.0, 30.0, 35.0, 30.0, 100.0, 35.0, 80.0], [93.0, 'Haunter', 'GhostPoison', 405.0, 45.0, 50.0, 45.0, 115.0, 55.0, 95.0], [94.0, 'Gengar', 'GhostPoison', 500.0, 60.0, 65.0, 60.0, 130.0, 75.0, 110.0], [94.0, 'GengarMega Gengar', 'GhostPoison', 600.0, 60.0, 65.0, 80.0, 170.0, 95.0, 130.0], [95.0, 'Onix', 'RockGround', 385.0, 35.0, 45.0, 160.0, 30.0, 45.0, 70.0], [96.0, 'Drowzee', 'Psychic', 328.0, 60.0, 48.0, 45.0, 43.0, 90.0, 42.0], [97.0, 'Hypno', 'Psychic', 483.0, 85.0, 73.0, 70.0, 73.0, 115.0, 67.0], [98.0, 'Krabby', 'Water', 325.0, 30.0, 105.0, 90.0, 25.0, 25.0, 50.0], [99.0, 'Kingler', 'Water', 475.0, 55.0, 130.0, 115.0, 50.0, 50.0, 75.0], [100.0, 'Voltorb', 'Electric', 330.0, 40.0, 30.0, 50.0, 55.0, 55.0, 100.0], [101.0, 'Electrode', 'Electric', 480.0, 60.0, 50.0, 70.0, 80.0, 80.0, 140.0], [102.0, 'Exeggcute', 'GrassPsychic', 325.0, 60.0, 40.0, 80.0, 60.0, 45.0, 40.0], [103.0, 'Exeggutor', 'GrassPsychic', 520.0, 95.0, 95.0, 85.0, 125.0, 65.0, 55.0], [104.0, 'Cubone', 'Ground', 320.0, 50.0, 50.0, 95.0, 40.0, 50.0, 35.0], [105.0, 'Marowak', 'Ground', 425.0, 60.0, 80.0, 110.0, 50.0, 80.0, 45.0], [106.0, 'Hitmonlee', 'Fighting', 455.0, 50.0, 120.0, 53.0, 35.0, 110.0, 87.0], [107.0, 'Hitmonchan', 'Fighting', 455.0, 50.0, 105.0, 79.0, 35.0, 110.0, 76.0], [108.0, 'Lickitung', 'Normal', 385.0, 90.0, 55.0, 75.0, 60.0, 75.0, 30.0], [109.0, 'Koffing', 'Poison', 340.0, 40.0, 65.0, 95.0, 60.0, 45.0, 35.0], [110.0, 'Weezing', 'Poison', 490.0, 65.0, 90.0, 120.0, 85.0, 70.0, 60.0], [111.0, 'Rhyhorn', 'GroundRock', 345.0, 80.0, 85.0, 95.0, 30.0, 30.0, 25.0], [112.0, 'Rhydon', 'GroundRock', 485.0, 105.0, 130.0, 120.0, 45.0, 45.0, 40.0], [113.0, 'Chansey', 'Normal', 450.0, 250.0, 5.0, 5.0, 35.0, 105.0, 50.0], [114.0, 'Tangela', 'Grass', 435.0, 65.0, 55.0, 115.0, 100.0, 40.0, 60.0], [115.0, 'Kangaskhan', 'Normal', 490.0, 105.0, 95.0, 80.0, 40.0, 80.0, 90.0], [115.0, 'KangaskhanMega Kangaskhan', 'Normal', 590.0, 105.0, 125.0, 100.0, 60.0, 100.0, 100.0], [116.0, 'Horsea', 'Water', 295.0, 30.0, 40.0, 70.0, 70.0, 25.0, 60.0], [117.0, 'Seadra', 'Water', 440.0, 55.0, 65.0, 95.0, 95.0, 45.0, 85.0], [118.0, 'Goldeen', 'Water', 320.0, 45.0, 67.0, 60.0, 35.0, 50.0, 63.0], [119.0, 'Seaking', 'Water', 450.0, 80.0, 92.0, 65.0, 65.0, 80.0, 68.0], [120.0, 'Staryu', 'Water', 340.0, 30.0, 45.0, 55.0, 70.0, 55.0, 85.0], [121.0, 'Starmie', 'WaterPsychic', 520.0, 60.0, 75.0, 85.0, 100.0, 85.0, 115.0], [122.0, 'Mr. Mime', 'PsychicFairy', 460.0, 40.0, 45.0, 65.0, 100.0, 120.0, 90.0], [123.0, 'Scyther', 'BugFlying', 500.0, 70.0, 110.0, 80.0, 55.0, 80.0, 105.0], [124.0, 'Jynx', 'IcePsychic', 455.0, 65.0, 50.0, 35.0, 115.0, 95.0, 95.0], [125.0, 'Electabuzz', 'Electric', 490.0, 65.0, 83.0, 57.0, 95.0, 85.0, 105.0], [126.0, 'Magmar', 'Fire', 495.0, 65.0, 95.0, 57.0, 100.0, 85.0, 93.0], [127.0, 'Pinsir', 'Bug', 500.0, 65.0, 125.0, 100.0, 55.0, 70.0, 85.0], [127.0, 'PinsirMega Pinsir', 'BugFlying', 600.0, 65.0, 155.0, 120.0, 65.0, 90.0, 105.0], [128.0, 'Tauros', 'Normal', 490.0, 75.0, 100.0, 95.0, 40.0, 70.0, 110.0], [129.0, 'Magikarp', 'Water', 200.0, 20.0, 10.0, 55.0, 15.0, 20.0, 80.0], [130.0, 'Gyarados', 'WaterFlying', 540.0, 95.0, 125.0, 79.0, 60.0, 100.0, 81.0], [130.0, 'GyaradosMega Gyarados', 'WaterDark', 640.0, 95.0, 155.0, 109.0, 70.0, 130.0, 81.0], [131.0, 'Lapras', 'WaterIce', 535.0, 130.0, 85.0, 80.0, 85.0, 95.0, 60.0], [132.0, 'Ditto', 'Normal', 288.0, 48.0, 48.0, 48.0, 48.0, 48.0, 48.0], [133.0, 'Eevee', 'Normal', 325.0, 55.0, 55.0, 50.0, 45.0, 65.0, 55.0], [134.0, 'Vaporeon', 'Water', 525.0, 130.0, 65.0, 60.0, 110.0, 95.0, 65.0], [135.0, 'Jolteon', 'Electric', 525.0, 65.0, 65.0, 60.0, 110.0, 95.0, 130.0], [136.0, 'Flareon', 'Fire', 525.0, 65.0, 130.0, 60.0, 95.0, 110.0, 65.0], [137.0, 'Porygon', 'Normal', 395.0, 65.0, 60.0, 70.0, 85.0, 75.0, 40.0], [138.0, 'Omanyte', 'RockWater', 355.0, 35.0, 40.0, 100.0, 90.0, 55.0, 35.0], [139.0, 'Omastar', 'RockWater', 495.0, 70.0, 60.0, 125.0, 115.0, 70.0, 55.0], [140.0, 'Kabuto', 'RockWater', 355.0, 30.0, 80.0, 90.0, 55.0, 45.0, 55.0], [141.0, 'Kabutops', 'RockWater', 495.0, 60.0, 115.0, 105.0, 65.0, 70.0, 80.0], [142.0, 'Aerodactyl', 'RockFlying', 515.0, 80.0, 105.0, 65.0, 60.0, 75.0, 130.0], [142.0, 'AerodactylMega Aerodactyl', 'RockFlying', 615.0, 80.0, 135.0, 85.0, 70.0, 95.0, 150.0], [143.0, 'Snorlax', 'Normal', 540.0, 160.0, 110.0, 65.0, 65.0, 110.0, 30.0], [144.0, 'Articuno', 'IceFlying', 580.0, 90.0, 85.0, 100.0, 95.0, 125.0, 85.0], [145.0, 'Zapdos', 'ElectricFlying', 580.0, 90.0, 90.0, 85.0, 125.0, 90.0, 100.0], [146.0, 'Moltres', 'FireFlying', 580.0, 90.0, 100.0, 90.0, 125.0, 85.0, 90.0], [147.0, 'Dratini', 'Dragon', 300.0, 41.0, 64.0, 45.0, 50.0, 50.0, 50.0], [148.0, 'Dragonair', 'Dragon', 420.0, 61.0, 84.0, 65.0, 70.0, 70.0, 70.0], [149.0, 'Dragonite', 'DragonFlying', 600.0, 91.0, 134.0, 95.0, 100.0, 100.0, 80.0], [150.0, 'Mewtwo', 'Psychic', 680.0, 106.0, 110.0, 90.0, 154.0, 90.0, 130.0], [150.0, 'MewtwoMega Mewtwo X', 'PsychicFighting', 780.0, 106.0, 190.0, 100.0, 154.0, 100.0, 130.0], [150.0, 'MewtwoMega Mewtwo Y', 'Psychic', 780.0, 106.0, 150.0, 70.0, 194.0, 120.0, 140.0], [151.0, 'Mew', 'Psychic', 600.0, 100.0, 100.0, 100.0, 100.0, 100.0, 100.0], [152.0, 'Chikorita', 'Grass', 318.0, 45.0, 49.0, 65.0, 49.0, 65.0, 45.0], [153.0, 'Bayleef', 'Grass', 405.0, 60.0, 62.0, 80.0, 63.0, 80.0, 60.0], [154.0, 'Meganium', 'Grass', 525.0, 80.0, 82.0, 100.0, 83.0, 100.0, 80.0], [155.0, 'Cyndaquil', 'Fire', 309.0, 39.0, 52.0, 43.0, 60.0, 50.0, 65.0], [156.0, 'Quilava', 'Fire', 405.0, 58.0, 64.0, 58.0, 80.0, 65.0, 80.0], [157.0, 'Typhlosion', 'Fire', 534.0, 78.0, 84.0, 78.0, 109.0, 85.0, 100.0], [158.0, 'Totodile', 'Water', 314.0, 50.0, 65.0, 64.0, 44.0, 48.0, 43.0], [159.0, 'Croconaw', 'Water', 405.0, 65.0, 80.0, 80.0, 59.0, 63.0, 58.0], [160.0, 'Feraligatr', 'Water', 530.0, 85.0, 105.0, 100.0, 79.0, 83.0, 78.0], [161.0, 'Sentret', 'Normal', 215.0, 35.0, 46.0, 34.0, 35.0, 45.0, 20.0], [162.0, 'Furret', 'Normal', 415.0, 85.0, 76.0, 64.0, 45.0, 55.0, 90.0], [163.0, 'Hoothoot', 'NormalFlying', 262.0, 60.0, 30.0, 30.0, 36.0, 56.0, 50.0], [164.0, 'Noctowl', 'NormalFlying', 442.0, 100.0, 50.0, 50.0, 76.0, 96.0, 70.0], [165.0, 'Ledyba', 'BugFlying', 265.0, 40.0, 20.0, 30.0, 40.0, 80.0, 55.0], [166.0, 'Ledian', 'BugFlying', 390.0, 55.0, 35.0, 50.0, 55.0, 110.0, 85.0], [167.0, 'Spinarak', 'BugPoison', 250.0, 40.0, 60.0, 40.0, 40.0, 40.0, 30.0], [168.0, 'Ariados', 'BugPoison', 390.0, 70.0, 90.0, 70.0, 60.0, 60.0, 40.0], [169.0, 'Crobat', 'PoisonFlying', 535.0, 85.0, 90.0, 80.0, 70.0, 80.0, 130.0], [170.0, 'Chinchou', 'WaterElectric', 330.0, 75.0, 38.0, 38.0, 56.0, 56.0, 67.0], [171.0, 'Lanturn', 'WaterElectric', 460.0, 125.0, 58.0, 58.0, 76.0, 76.0, 67.0], [172.0, 'Pichu', 'Electric', 205.0, 20.0, 40.0, 15.0, 35.0, 35.0, 60.0], [173.0, 'Cleffa', 'Fairy', 218.0, 50.0, 25.0, 28.0, 45.0, 55.0, 15.0], [174.0, 'Igglybuff', 'NormalFairy', 210.0, 90.0, 30.0, 15.0, 40.0, 20.0, 15.0], [175.0, 'Togepi', 'Fairy', 245.0, 35.0, 20.0, 65.0, 40.0, 65.0, 20.0], [176.0, 'Togetic', 'FairyFlying', 405.0, 55.0, 40.0, 85.0, 80.0, 105.0, 40.0], [177.0, 'Natu', 'PsychicFlying', 320.0, 40.0, 50.0, 45.0, 70.0, 45.0, 70.0], [178.0, 'Xatu', 'PsychicFlying', 470.0, 65.0, 75.0, 70.0, 95.0, 70.0, 95.0], [179.0, 'Mareep', 'Electric', 280.0, 55.0, 40.0, 40.0, 65.0, 45.0, 35.0], [180.0, 'Flaaffy', 'Electric', 365.0, 70.0, 55.0, 55.0, 80.0, 60.0, 45.0], [181.0, 'Ampharos', 'Electric', 510.0, 90.0, 75.0, 85.0, 115.0, 90.0, 55.0], [181.0, 'AmpharosMega Ampharos', 'ElectricDragon', 610.0, 90.0, 95.0, 105.0, 165.0, 110.0, 45.0], [182.0, 'Bellossom', 'Grass', 490.0, 75.0, 80.0, 95.0, 90.0, 100.0, 50.0], [183.0, 'Marill', 'WaterFairy', 250.0, 70.0, 20.0, 50.0, 20.0, 50.0, 40.0], [184.0, 'Azumarill', 'WaterFairy', 420.0, 100.0, 50.0, 80.0, 60.0, 80.0, 50.0], [185.0, 'Sudowoodo', 'Rock', 410.0, 70.0, 100.0, 115.0, 30.0, 65.0, 30.0], [186.0, 'Politoed', 'Water', 500.0, 90.0, 75.0, 75.0, 90.0, 100.0, 70.0], [187.0, 'Hoppip', 'GrassFlying', 250.0, 35.0, 35.0, 40.0, 35.0, 55.0, 50.0], [188.0, 'Skiploom', 'GrassFlying', 340.0, 55.0, 45.0, 50.0, 45.0, 65.0, 80.0], [189.0, 'Jumpluff', 'GrassFlying', 460.0, 75.0, 55.0, 70.0, 55.0, 95.0, 110.0], [190.0, 'Aipom', 'Normal', 360.0, 55.0, 70.0, 55.0, 40.0, 55.0, 85.0], [191.0, 'Sunkern', 'Grass', 180.0, 30.0, 30.0, 30.0, 30.0, 30.0, 30.0], [192.0, 'Sunflora', 'Grass', 425.0, 75.0, 75.0, 55.0, 105.0, 85.0, 30.0], [193.0, 'Yanma', 'BugFlying', 390.0, 65.0, 65.0, 45.0, 75.0, 45.0, 95.0], [194.0, 'Wooper', 'WaterGround', 210.0, 55.0, 45.0, 45.0, 25.0, 25.0, 15.0], [195.0, 'Quagsire', 'WaterGround', 430.0, 95.0, 85.0, 85.0, 65.0, 65.0, 35.0], [196.0, 'Espeon', 'Psychic', 525.0, 65.0, 65.0, 60.0, 130.0, 95.0, 110.0], [197.0, 'Umbreon', 'Dark', 525.0, 95.0, 65.0, 110.0, 60.0, 130.0, 65.0], [198.0, 'Murkrow', 'DarkFlying', 405.0, 60.0, 85.0, 42.0, 85.0, 42.0, 91.0], [199.0, 'Slowking', 'WaterPsychic', 490.0, 95.0, 75.0, 80.0, 100.0, 110.0, 30.0], [200.0, 'Misdreavus', 'Ghost', 435.0, 60.0, 60.0, 60.0, 85.0, 85.0, 85.0], [201.0, 'Unown', 'Psychic', 336.0, 48.0, 72.0, 48.0, 72.0, 48.0, 48.0], [202.0, 'Wobbuffet', 'Psychic', 405.0, 190.0, 33.0, 58.0, 33.0, 58.0, 33.0], [203.0, 'Girafarig', 'NormalPsychic', 455.0, 70.0, 80.0, 65.0, 90.0, 65.0, 85.0], [204.0, 'Pineco', 'Bug', 290.0, 50.0, 65.0, 90.0, 35.0, 35.0, 15.0], [205.0, 'Forretress', 'BugSteel', 465.0, 75.0, 90.0, 140.0, 60.0, 60.0, 40.0], [206.0, 'Dunsparce', 'Normal', 415.0, 100.0, 70.0, 70.0, 65.0, 65.0, 45.0], [207.0, 'Gligar', 'GroundFlying', 430.0, 65.0, 75.0, 105.0, 35.0, 65.0, 85.0], [208.0, 'Steelix', 'SteelGround', 510.0, 75.0, 85.0, 200.0, 55.0, 65.0, 30.0], [208.0, 'SteelixMega Steelix', 'SteelGround', 610.0, 75.0, 125.0, 230.0, 55.0, 95.0, 30.0], [209.0, 'Snubbull', 'Fairy', 300.0, 60.0, 80.0, 50.0, 40.0, 40.0, 30.0], [210.0, 'Granbull', 'Fairy', 450.0, 90.0, 120.0, 75.0, 60.0, 60.0, 45.0], [211.0, 'Qwilfish', 'WaterPoison', 430.0, 65.0, 95.0, 75.0, 55.0, 55.0, 85.0], [212.0, 'Scizor', 'BugSteel', 500.0, 70.0, 130.0, 100.0, 55.0, 80.0, 65.0], [212.0, 'ScizorMega Scizor', 'BugSteel', 600.0, 70.0, 150.0, 140.0, 65.0, 100.0, 75.0], [213.0, 'Shuckle', 'BugRock', 505.0, 20.0, 10.0, 230.0, 10.0, 230.0, 5.0], [214.0, 'Heracross', 'BugFighting', 500.0, 80.0, 125.0, 75.0, 40.0, 95.0, 85.0], [214.0, 'HeracrossMega Heracross', 'BugFighting', 600.0, 80.0, 185.0, 115.0, 40.0, 105.0, 75.0], [215.0, 'Sneasel', 'DarkIce', 430.0, 55.0, 95.0, 55.0, 35.0, 75.0, 115.0], [216.0, 'Teddiursa', 'Normal', 330.0, 60.0, 80.0, 50.0, 50.0, 50.0, 40.0], [217.0, 'Ursaring', 'Normal', 500.0, 90.0, 130.0, 75.0, 75.0, 75.0, 55.0], [218.0, 'Slugma', 'Fire', 250.0, 40.0, 40.0, 40.0, 70.0, 40.0, 20.0], [219.0, 'Magcargo', 'FireRock', 410.0, 50.0, 50.0, 120.0, 80.0, 80.0, 30.0], [220.0, 'Swinub', 'IceGround', 250.0, 50.0, 50.0, 40.0, 30.0, 30.0, 50.0], [221.0, 'Piloswine', 'IceGround', 450.0, 100.0, 100.0, 80.0, 60.0, 60.0, 50.0], [222.0, 'Corsola', 'WaterRock', 380.0, 55.0, 55.0, 85.0, 65.0, 85.0, 35.0], [223.0, 'Remoraid', 'Water', 300.0, 35.0, 65.0, 35.0, 65.0, 35.0, 65.0], [224.0, 'Octillery', 'Water', 480.0, 75.0, 105.0, 75.0, 105.0, 75.0, 45.0], [225.0, 'Delibird', 'IceFlying', 330.0, 45.0, 55.0, 45.0, 65.0, 45.0, 75.0], [226.0, 'Mantine', 'WaterFlying', 465.0, 65.0, 40.0, 70.0, 80.0, 140.0, 70.0], [227.0, 'Skarmory', 'SteelFlying', 465.0, 65.0, 80.0, 140.0, 40.0, 70.0, 70.0], [228.0, 'Houndour', 'DarkFire', 330.0, 45.0, 60.0, 30.0, 80.0, 50.0, 65.0], [229.0, 'Houndoom', 'DarkFire', 500.0, 75.0, 90.0, 50.0, 110.0, 80.0, 95.0], [229.0, 'HoundoomMega Houndoom', 'DarkFire', 600.0, 75.0, 90.0, 90.0, 140.0, 90.0, 115.0], [230.0, 'Kingdra', 'WaterDragon', 540.0, 75.0, 95.0, 95.0, 95.0, 95.0, 85.0], [231.0, 'Phanpy', 'Ground', 330.0, 90.0, 60.0, 60.0, 40.0, 40.0, 40.0], [232.0, 'Donphan', 'Ground', 500.0, 90.0, 120.0, 120.0, 60.0, 60.0, 50.0], [233.0, 'Porygon2', 'Normal', 515.0, 85.0, 80.0, 90.0, 105.0, 95.0, 60.0], [234.0, 'Stantler', 'Normal', 465.0, 73.0, 95.0, 62.0, 85.0, 65.0, 85.0], [235.0, 'Smeargle', 'Normal', 250.0, 55.0, 20.0, 35.0, 20.0, 45.0, 75.0], [236.0, 'Tyrogue', 'Fighting', 210.0, 35.0, 35.0, 35.0, 35.0, 35.0, 35.0], [237.0, 'Hitmontop', 'Fighting', 455.0, 50.0, 95.0, 95.0, 35.0, 110.0, 70.0], [238.0, 'Smoochum', 'IcePsychic', 305.0, 45.0, 30.0, 15.0, 85.0, 65.0, 65.0], [239.0, 'Elekid', 'Electric', 360.0, 45.0, 63.0, 37.0, 65.0, 55.0, 95.0], [240.0, 'Magby', 'Fire', 365.0, 45.0, 75.0, 37.0, 70.0, 55.0, 83.0], [241.0, 'Miltank', 'Normal', 490.0, 95.0, 80.0, 105.0, 40.0, 70.0, 100.0], [242.0, 'Blissey', 'Normal', 540.0, 255.0, 10.0, 10.0, 75.0, 135.0, 55.0], [243.0, 'Raikou', 'Electric', 580.0, 90.0, 85.0, 75.0, 115.0, 100.0, 115.0], [244.0, 'Entei', 'Fire', 580.0, 115.0, 115.0, 85.0, 90.0, 75.0, 100.0], [245.0, 'Suicune', 'Water', 580.0, 100.0, 75.0, 115.0, 90.0, 115.0, 85.0], [246.0, 'Larvitar', 'RockGround', 300.0, 50.0, 64.0, 50.0, 45.0, 50.0, 41.0], [247.0, 'Pupitar', 'RockGround', 410.0, 70.0, 84.0, 70.0, 65.0, 70.0, 51.0], [248.0, 'Tyranitar', 'RockDark', 600.0, 100.0, 134.0, 110.0, 95.0, 100.0, 61.0], [248.0, 'TyranitarMega Tyranitar', 'RockDark', 700.0, 100.0, 164.0, 150.0, 95.0, 120.0, 71.0], [249.0, 'Lugia', 'PsychicFlying', 680.0, 106.0, 90.0, 130.0, 90.0, 154.0, 110.0], [250.0, 'Ho-oh', 'FireFlying', 680.0, 106.0, 130.0, 90.0, 110.0, 154.0, 90.0], [251.0, 'Celebi', 'PsychicGrass', 600.0, 100.0, 100.0, 100.0, 100.0, 100.0, 100.0], [252.0, 'Treecko', 'Grass', 310.0, 40.0, 45.0, 35.0, 65.0, 55.0, 70.0], [253.0, 'Grovyle', 'Grass', 405.0, 50.0, 65.0, 45.0, 85.0, 65.0, 95.0], [254.0, 'Sceptile', 'Grass', 530.0, 70.0, 85.0, 65.0, 105.0, 85.0, 120.0], [254.0, 'SceptileMega Sceptile', 'GrassDragon', 630.0, 70.0, 110.0, 75.0, 145.0, 85.0, 145.0], [255.0, 'Torchic', 'Fire', 310.0, 45.0, 60.0, 40.0, 70.0, 50.0, 45.0], [256.0, 'Combusken', 'FireFighting', 405.0, 60.0, 85.0, 60.0, 85.0, 60.0, 55.0], [257.0, 'Blaziken', 'FireFighting', 530.0, 80.0, 120.0, 70.0, 110.0, 70.0, 80.0], [257.0, 'BlazikenMega Blaziken', 'FireFighting', 630.0, 80.0, 160.0, 80.0, 130.0, 80.0, 100.0], [258.0, 'Mudkip', 'Water', 310.0, 50.0, 70.0, 50.0, 50.0, 50.0, 40.0], [259.0, 'Marshtomp', 'WaterGround', 405.0, 70.0, 85.0, 70.0, 60.0, 70.0, 50.0], [260.0, 'Swampert', 'WaterGround', 535.0, 100.0, 110.0, 90.0, 85.0, 90.0, 60.0], [260.0, 'SwampertMega Swampert', 'WaterGround', 635.0, 100.0, 150.0, 110.0, 95.0, 110.0, 70.0], [261.0, 'Poochyena', 'Dark', 220.0, 35.0, 55.0, 35.0, 30.0, 30.0, 35.0], [262.0, 'Mightyena', 'Dark', 420.0, 70.0, 90.0, 70.0, 60.0, 60.0, 70.0], [263.0, 'Zigzagoon', 'Normal', 240.0, 38.0, 30.0, 41.0, 30.0, 41.0, 60.0], [264.0, 'Linoone', 'Normal', 420.0, 78.0, 70.0, 61.0, 50.0, 61.0, 100.0], [265.0, 'Wurmple', 'Bug', 195.0, 45.0, 45.0, 35.0, 20.0, 30.0, 20.0], [266.0, 'Silcoon', 'Bug', 205.0, 50.0, 35.0, 55.0, 25.0, 25.0, 15.0], [267.0, 'Beautifly', 'BugFlying', 395.0, 60.0, 70.0, 50.0, 100.0, 50.0, 65.0], [268.0, 'Cascoon', 'Bug', 205.0, 50.0, 35.0, 55.0, 25.0, 25.0, 15.0], [269.0, 'Dustox', 'BugPoison', 385.0, 60.0, 50.0, 70.0, 50.0, 90.0, 65.0], [270.0, 'Lotad', 'WaterGrass', 220.0, 40.0, 30.0, 30.0, 40.0, 50.0, 30.0], [271.0, 'Lombre', 'WaterGrass', 340.0, 60.0, 50.0, 50.0, 60.0, 70.0, 50.0], [272.0, 'Ludicolo', 'WaterGrass', 480.0, 80.0, 70.0, 70.0, 90.0, 100.0, 70.0], [273.0, 'Seedot', 'Grass', 220.0, 40.0, 40.0, 50.0, 30.0, 30.0, 30.0], [274.0, 'Nuzleaf', 'GrassDark', 340.0, 70.0, 70.0, 40.0, 60.0, 40.0, 60.0], [275.0, 'Shiftry', 'GrassDark', 480.0, 90.0, 100.0, 60.0, 90.0, 60.0, 80.0], [276.0, 'Taillow', 'NormalFlying', 270.0, 40.0, 55.0, 30.0, 30.0, 30.0, 85.0], [277.0, 'Swellow', 'NormalFlying', 430.0, 60.0, 85.0, 60.0, 50.0, 50.0, 125.0], [278.0, 'Wingull', 'WaterFlying', 270.0, 40.0, 30.0, 30.0, 55.0, 30.0, 85.0], [279.0, 'Pelipper', 'WaterFlying', 430.0, 60.0, 50.0, 100.0, 85.0, 70.0, 65.0], [280.0, 'Ralts', 'PsychicFairy', 198.0, 28.0, 25.0, 25.0, 45.0, 35.0, 40.0], [281.0, 'Kirlia', 'PsychicFairy', 278.0, 38.0, 35.0, 35.0, 65.0, 55.0, 50.0], [282.0, 'Gardevoir', 'PsychicFairy', 518.0, 68.0, 65.0, 65.0, 125.0, 115.0, 80.0], [282.0, 'GardevoirMega Gardevoir', 'PsychicFairy', 618.0, 68.0, 85.0, 65.0, 165.0, 135.0, 100.0], [283.0, 'Surskit', 'BugWater', 269.0, 40.0, 30.0, 32.0, 50.0, 52.0, 65.0], [284.0, 'Masquerain', 'BugFlying', 414.0, 70.0, 60.0, 62.0, 80.0, 82.0, 60.0], [285.0, 'Shroomish', 'Grass', 295.0, 60.0, 40.0, 60.0, 40.0, 60.0, 35.0], [286.0, 'Breloom', 'GrassFighting', 460.0, 60.0, 130.0, 80.0, 60.0, 60.0, 70.0], [287.0, 'Slakoth', 'Normal', 280.0, 60.0, 60.0, 60.0, 35.0, 35.0, 30.0], [288.0, 'Vigoroth', 'Normal', 440.0, 80.0, 80.0, 80.0, 55.0, 55.0, 90.0], [289.0, 'Slaking', 'Normal', 670.0, 150.0, 160.0, 100.0, 95.0, 65.0, 100.0], [290.0, 'Nincada', 'BugGround', 266.0, 31.0, 45.0, 90.0, 30.0, 30.0, 40.0], [291.0, 'Ninjask', 'BugFlying', 456.0, 61.0, 90.0, 45.0, 50.0, 50.0, 160.0], [292.0, 'Shedinja', 'BugGhost', 236.0, 1.0, 90.0, 45.0, 30.0, 30.0, 40.0], [293.0, 'Whismur', 'Normal', 240.0, 64.0, 51.0, 23.0, 51.0, 23.0, 28.0], [294.0, 'Loudred', 'Normal', 360.0, 84.0, 71.0, 43.0, 71.0, 43.0, 48.0], [295.0, 'Exploud', 'Normal', 490.0, 104.0, 91.0, 63.0, 91.0, 73.0, 68.0], [296.0, 'Makuhita', 'Fighting', 237.0, 72.0, 60.0, 30.0, 20.0, 30.0, 25.0], [297.0, 'Hariyama', 'Fighting', 474.0, 144.0, 120.0, 60.0, 40.0, 60.0, 50.0], [298.0, 'Azurill', 'NormalFairy', 190.0, 50.0, 20.0, 40.0, 20.0, 40.0, 20.0], [299.0, 'Nosepass', 'Rock', 375.0, 30.0, 45.0, 135.0, 45.0, 90.0, 30.0], [300.0, 'Skitty', 'Normal', 260.0, 50.0, 45.0, 45.0, 35.0, 35.0, 50.0], [301.0, 'Delcatty', 'Normal', 380.0, 70.0, 65.0, 65.0, 55.0, 55.0, 70.0], [302.0, 'Sableye', 'DarkGhost', 380.0, 50.0, 75.0, 75.0, 65.0, 65.0, 50.0], [302.0, 'SableyeMega Sableye', 'DarkGhost', 480.0, 50.0, 85.0, 125.0, 85.0, 115.0, 20.0], [303.0, 'Mawile', 'SteelFairy', 380.0, 50.0, 85.0, 85.0, 55.0, 55.0, 50.0], [303.0, 'MawileMega Mawile', 'SteelFairy', 480.0, 50.0, 105.0, 125.0, 55.0, 95.0, 50.0], [304.0, 'Aron', 'SteelRock', 330.0, 50.0, 70.0, 100.0, 40.0, 40.0, 30.0], [305.0, 'Lairon', 'SteelRock', 430.0, 60.0, 90.0, 140.0, 50.0, 50.0, 40.0], [306.0, 'Aggron', 'SteelRock', 530.0, 70.0, 110.0, 180.0, 60.0, 60.0, 50.0], [306.0, 'AggronMega Aggron', 'Steel', 630.0, 70.0, 140.0, 230.0, 60.0, 80.0, 50.0], [307.0, 'Meditite', 'FightingPsychic', 280.0, 30.0, 40.0, 55.0, 40.0, 55.0, 60.0], [308.0, 'Medicham', 'FightingPsychic', 410.0, 60.0, 60.0, 75.0, 60.0, 75.0, 80.0], [308.0, 'MedichamMega Medicham', 'FightingPsychic', 510.0, 60.0, 100.0, 85.0, 80.0, 85.0, 100.0], [309.0, 'Electrike', 'Electric', 295.0, 40.0, 45.0, 40.0, 65.0, 40.0, 65.0], [310.0, 'Manectric', 'Electric', 475.0, 70.0, 75.0, 60.0, 105.0, 60.0, 105.0], [310.0, 'ManectricMega Manectric', 'Electric', 575.0, 70.0, 75.0, 80.0, 135.0, 80.0, 135.0], [311.0, 'Plusle', 'Electric', 405.0, 60.0, 50.0, 40.0, 85.0, 75.0, 95.0], [312.0, 'Minun', 'Electric', 405.0, 60.0, 40.0, 50.0, 75.0, 85.0, 95.0], [313.0, 'Volbeat', 'Bug', 400.0, 65.0, 73.0, 55.0, 47.0, 75.0, 85.0], [314.0, 'Illumise', 'Bug', 400.0, 65.0, 47.0, 55.0, 73.0, 75.0, 85.0], [315.0, 'Roselia', 'GrassPoison', 400.0, 50.0, 60.0, 45.0, 100.0, 80.0, 65.0], [316.0, 'Gulpin', 'Poison', 302.0, 70.0, 43.0, 53.0, 43.0, 53.0, 40.0], [317.0, 'Swalot', 'Poison', 467.0, 100.0, 73.0, 83.0, 73.0, 83.0, 55.0], [318.0, 'Carvanha', 'WaterDark', 305.0, 45.0, 90.0, 20.0, 65.0, 20.0, 65.0], [319.0, 'Sharpedo', 'WaterDark', 460.0, 70.0, 120.0, 40.0, 95.0, 40.0, 95.0], [319.0, 'SharpedoMega Sharpedo', 'WaterDark', 560.0, 70.0, 140.0, 70.0, 110.0, 65.0, 105.0], [320.0, 'Wailmer', 'Water', 400.0, 130.0, 70.0, 35.0, 70.0, 35.0, 60.0], [321.0, 'Wailord', 'Water', 500.0, 170.0, 90.0, 45.0, 90.0, 45.0, 60.0], [322.0, 'Numel', 'FireGround', 305.0, 60.0, 60.0, 40.0, 65.0, 45.0, 35.0], [323.0, 'Camerupt', 'FireGround', 460.0, 70.0, 100.0, 70.0, 105.0, 75.0, 40.0], [323.0, 'CameruptMega Camerupt', 'FireGround', 560.0, 70.0, 120.0, 100.0, 145.0, 105.0, 20.0], [324.0, 'Torkoal', 'Fire', 470.0, 70.0, 85.0, 140.0, 85.0, 70.0, 20.0], [325.0, 'Spoink', 'Psychic', 330.0, 60.0, 25.0, 35.0, 70.0, 80.0, 60.0], [326.0, 'Grumpig', 'Psychic', 470.0, 80.0, 45.0, 65.0, 90.0, 110.0, 80.0], [327.0, 'Spinda', 'Normal', 360.0, 60.0, 60.0, 60.0, 60.0, 60.0, 60.0], [328.0, 'Trapinch', 'Ground', 290.0, 45.0, 100.0, 45.0, 45.0, 45.0, 10.0], [329.0, 'Vibrava', 'GroundDragon', 340.0, 50.0, 70.0, 50.0, 50.0, 50.0, 70.0], [330.0, 'Flygon', 'GroundDragon', 520.0, 80.0, 100.0, 80.0, 80.0, 80.0, 100.0], [331.0, 'Cacnea', 'Grass', 335.0, 50.0, 85.0, 40.0, 85.0, 40.0, 35.0], [332.0, 'Cacturne', 'GrassDark', 475.0, 70.0, 115.0, 60.0, 115.0, 60.0, 55.0], [333.0, 'Swablu', 'NormalFlying', 310.0, 45.0, 40.0, 60.0, 40.0, 75.0, 50.0], [334.0, 'Altaria', 'DragonFlying', 490.0, 75.0, 70.0, 90.0, 70.0, 105.0, 80.0], [334.0, 'AltariaMega Altaria', 'DragonFairy', 590.0, 75.0, 110.0, 110.0, 110.0, 105.0, 80.0], [335.0, 'Zangoose', 'Normal', 458.0, 73.0, 115.0, 60.0, 60.0, 60.0, 90.0], [336.0, 'Seviper', 'Poison', 458.0, 73.0, 100.0, 60.0, 100.0, 60.0, 65.0], [337.0, 'Lunatone', 'RockPsychic', 440.0, 70.0, 55.0, 65.0, 95.0, 85.0, 70.0], [338.0, 'Solrock', 'RockPsychic', 440.0, 70.0, 95.0, 85.0, 55.0, 65.0, 70.0], [339.0, 'Barboach', 'WaterGround', 288.0, 50.0, 48.0, 43.0, 46.0, 41.0, 60.0], [340.0, 'Whiscash', 'WaterGround', 468.0, 110.0, 78.0, 73.0, 76.0, 71.0, 60.0], [341.0, 'Corphish', 'Water', 308.0, 43.0, 80.0, 65.0, 50.0, 35.0, 35.0], [342.0, 'Crawdaunt', 'WaterDark', 468.0, 63.0, 120.0, 85.0, 90.0, 55.0, 55.0], [343.0, 'Baltoy', 'GroundPsychic', 300.0, 40.0, 40.0, 55.0, 40.0, 70.0, 55.0], [344.0, 'Claydol', 'GroundPsychic', 500.0, 60.0, 70.0, 105.0, 70.0, 120.0, 75.0], [345.0, 'Lileep', 'RockGrass', 355.0, 66.0, 41.0, 77.0, 61.0, 87.0, 23.0], [346.0, 'Cradily', 'RockGrass', 495.0, 86.0, 81.0, 97.0, 81.0, 107.0, 43.0], [347.0, 'Anorith', 'RockBug', 355.0, 45.0, 95.0, 50.0, 40.0, 50.0, 75.0], [348.0, 'Armaldo', 'RockBug', 495.0, 75.0, 125.0, 100.0, 70.0, 80.0, 45.0], [349.0, 'Feebas', 'Water', 200.0, 20.0, 15.0, 20.0, 10.0, 55.0, 80.0], [350.0, 'Milotic', 'Water', 540.0, 95.0, 60.0, 79.0, 100.0, 125.0, 81.0], [351.0, 'Castform', 'Normal', 420.0, 70.0, 70.0, 70.0, 70.0, 70.0, 70.0], [352.0, 'Kecleon', 'Normal', 440.0, 60.0, 90.0, 70.0, 60.0, 120.0, 40.0], [353.0, 'Shuppet', 'Ghost', 295.0, 44.0, 75.0, 35.0, 63.0, 33.0, 45.0], [354.0, 'Banette', 'Ghost', 455.0, 64.0, 115.0, 65.0, 83.0, 63.0, 65.0], [354.0, 'BanetteMega Banette', 'Ghost', 555.0, 64.0, 165.0, 75.0, 93.0, 83.0, 75.0], [355.0, 'Duskull', 'Ghost', 295.0, 20.0, 40.0, 90.0, 30.0, 90.0, 25.0], [356.0, 'Dusclops', 'Ghost', 455.0, 40.0, 70.0, 130.0, 60.0, 130.0, 25.0], [357.0, 'Tropius', 'GrassFlying', 460.0, 99.0, 68.0, 83.0, 72.0, 87.0, 51.0], [358.0, 'Chimecho', 'Psychic', 425.0, 65.0, 50.0, 70.0, 95.0, 80.0, 65.0], [359.0, 'Absol', 'Dark', 465.0, 65.0, 130.0, 60.0, 75.0, 60.0, 75.0], [359.0, 'AbsolMega Absol', 'Dark', 565.0, 65.0, 150.0, 60.0, 115.0, 60.0, 115.0], [360.0, 'Wynaut', 'Psychic', 260.0, 95.0, 23.0, 48.0, 23.0, 48.0, 23.0], [361.0, 'Snorunt', 'Ice', 300.0, 50.0, 50.0, 50.0, 50.0, 50.0, 50.0], [362.0, 'Glalie', 'Ice', 480.0, 80.0, 80.0, 80.0, 80.0, 80.0, 80.0], [362.0, 'GlalieMega Glalie', 'Ice', 580.0, 80.0, 120.0, 80.0, 120.0, 80.0, 100.0], [363.0, 'Spheal', 'IceWater', 290.0, 70.0, 40.0, 50.0, 55.0, 50.0, 25.0], [364.0, 'Sealeo', 'IceWater', 410.0, 90.0, 60.0, 70.0, 75.0, 70.0, 45.0], [365.0, 'Walrein', 'IceWater', 530.0, 110.0, 80.0, 90.0, 95.0, 90.0, 65.0], [366.0, 'Clamperl', 'Water', 345.0, 35.0, 64.0, 85.0, 74.0, 55.0, 32.0], [367.0, 'Huntail', 'Water', 485.0, 55.0, 104.0, 105.0, 94.0, 75.0, 52.0], [368.0, 'Gorebyss', 'Water', 485.0, 55.0, 84.0, 105.0, 114.0, 75.0, 52.0], [369.0, 'Relicanth', 'WaterRock', 485.0, 100.0, 90.0, 130.0, 45.0, 65.0, 55.0], [370.0, 'Luvdisc', 'Water', 330.0, 43.0, 30.0, 55.0, 40.0, 65.0, 97.0], [371.0, 'Bagon', 'Dragon', 300.0, 45.0, 75.0, 60.0, 40.0, 30.0, 50.0], [372.0, 'Shelgon', 'Dragon', 420.0, 65.0, 95.0, 100.0, 60.0, 50.0, 50.0], [373.0, 'Salamence', 'DragonFlying', 600.0, 95.0, 135.0, 80.0, 110.0, 80.0, 100.0], [373.0, 'SalamenceMega Salamence', 'DragonFlying', 700.0, 95.0, 145.0, 130.0, 120.0, 90.0, 120.0], [374.0, 'Beldum', 'SteelPsychic', 300.0, 40.0, 55.0, 80.0, 35.0, 60.0, 30.0], [375.0, 'Metang', 'SteelPsychic', 420.0, 60.0, 75.0, 100.0, 55.0, 80.0, 50.0], [376.0, 'Metagross', 'SteelPsychic', 600.0, 80.0, 135.0, 130.0, 95.0, 90.0, 70.0], [376.0, 'MetagrossMega Metagross', 'SteelPsychic', 700.0, 80.0, 145.0, 150.0, 105.0, 110.0, 110.0], [377.0, 'Regirock', 'Rock', 580.0, 80.0, 100.0, 200.0, 50.0, 100.0, 50.0], [378.0, 'Regice', 'Ice', 580.0, 80.0, 50.0, 100.0, 100.0, 200.0, 50.0], [379.0, 'Registeel', 'Steel', 580.0, 80.0, 75.0, 150.0, 75.0, 150.0, 50.0], [380.0, 'Latias', 'DragonPsychic', 600.0, 80.0, 80.0, 90.0, 110.0, 130.0, 110.0], [380.0, 'LatiasMega Latias', 'DragonPsychic', 700.0, 80.0, 100.0, 120.0, 140.0, 150.0, 110.0], [381.0, 'Latios', 'DragonPsychic', 600.0, 80.0, 90.0, 80.0, 130.0, 110.0, 110.0], [381.0, 'LatiosMega Latios', 'DragonPsychic', 700.0, 80.0, 130.0, 100.0, 160.0, 120.0, 110.0], [382.0, 'Kyogre', 'Water', 670.0, 100.0, 100.0, 90.0, 150.0, 140.0, 90.0], [382.0, 'KyogrePrimal Kyogre', 'Water', 770.0, 100.0, 150.0, 90.0, 180.0, 160.0, 90.0], [383.0, 'Groudon', 'Ground', 670.0, 100.0, 150.0, 140.0, 100.0, 90.0, 90.0], [383.0, 'GroudonPrimal Groudon', 'GroundFire', 770.0, 100.0, 180.0, 160.0, 150.0, 90.0, 90.0], [384.0, 'Rayquaza', 'DragonFlying', 680.0, 105.0, 150.0, 90.0, 150.0, 90.0, 95.0], [384.0, 'RayquazaMega Rayquaza', 'DragonFlying', 780.0, 105.0, 180.0, 100.0, 180.0, 100.0, 115.0], [385.0, 'Jirachi', 'SteelPsychic', 600.0, 100.0, 100.0, 100.0, 100.0, 100.0, 100.0], [386.0, 'DeoxysNormal Forme', 'Psychic', 600.0, 50.0, 150.0, 50.0, 150.0, 50.0, 150.0], [386.0, 'DeoxysAttack Forme', 'Psychic', 600.0, 50.0, 180.0, 20.0, 180.0, 20.0, 150.0], [386.0, 'DeoxysDefense Forme', 'Psychic', 600.0, 50.0, 70.0, 160.0, 70.0, 160.0, 90.0], [386.0, 'DeoxysSpeed Forme', 'Psychic', 600.0, 50.0, 95.0, 90.0, 95.0, 90.0, 180.0], [387.0, 'Turtwig', 'Grass', 318.0, 55.0, 68.0, 64.0, 45.0, 55.0, 31.0], [388.0, 'Grotle', 'Grass', 405.0, 75.0, 89.0, 85.0, 55.0, 65.0, 36.0], [389.0, 'Torterra', 'GrassGround', 525.0, 95.0, 109.0, 105.0, 75.0, 85.0, 56.0], [390.0, 'Chimchar', 'Fire', 309.0, 44.0, 58.0, 44.0, 58.0, 44.0, 61.0], [391.0, 'Monferno', 'FireFighting', 405.0, 64.0, 78.0, 52.0, 78.0, 52.0, 81.0], [392.0, 'Infernape', 'FireFighting', 534.0, 76.0, 104.0, 71.0, 104.0, 71.0, 108.0], [393.0, 'Piplup', 'Water', 314.0, 53.0, 51.0, 53.0, 61.0, 56.0, 40.0], [394.0, 'Prinplup', 'Water', 405.0, 64.0, 66.0, 68.0, 81.0, 76.0, 50.0], [395.0, 'Empoleon', 'WaterSteel', 530.0, 84.0, 86.0, 88.0, 111.0, 101.0, 60.0], [396.0, 'Starly', 'NormalFlying', 245.0, 40.0, 55.0, 30.0, 30.0, 30.0, 60.0], [397.0, 'Staravia', 'NormalFlying', 340.0, 55.0, 75.0, 50.0, 40.0, 40.0, 80.0], [398.0, 'Staraptor', 'NormalFlying', 485.0, 85.0, 120.0, 70.0, 50.0, 60.0, 100.0], [399.0, 'Bidoof', 'Normal', 250.0, 59.0, 45.0, 40.0, 35.0, 40.0, 31.0], [400.0, 'Bibarel', 'NormalWater', 410.0, 79.0, 85.0, 60.0, 55.0, 60.0, 71.0], [401.0, 'Kricketot', 'Bug', 194.0, 37.0, 25.0, 41.0, 25.0, 41.0, 25.0], [402.0, 'Kricketune', 'Bug', 384.0, 77.0, 85.0, 51.0, 55.0, 51.0, 65.0], [403.0, 'Shinx', 'Electric', 263.0, 45.0, 65.0, 34.0, 40.0, 34.0, 45.0], [404.0, 'Luxio', 'Electric', 363.0, 60.0, 85.0, 49.0, 60.0, 49.0, 60.0], [405.0, 'Luxray', 'Electric', 523.0, 80.0, 120.0, 79.0, 95.0, 79.0, 70.0], [406.0, 'Budew', 'GrassPoison', 280.0, 40.0, 30.0, 35.0, 50.0, 70.0, 55.0], [407.0, 'Roserade', 'GrassPoison', 515.0, 60.0, 70.0, 65.0, 125.0, 105.0, 90.0], [408.0, 'Cranidos', 'Rock', 350.0, 67.0, 125.0, 40.0, 30.0, 30.0, 58.0], [409.0, 'Rampardos', 'Rock', 495.0, 97.0, 165.0, 60.0, 65.0, 50.0, 58.0], [410.0, 'Shieldon', 'RockSteel', 350.0, 30.0, 42.0, 118.0, 42.0, 88.0, 30.0], [411.0, 'Bastiodon', 'RockSteel', 495.0, 60.0, 52.0, 168.0, 47.0, 138.0, 30.0], [412.0, 'Burmy', 'Bug', 224.0, 40.0, 29.0, 45.0, 29.0, 45.0, 36.0], [413.0, 'WormadamPlant Cloak', 'BugGrass', 424.0, 60.0, 59.0, 85.0, 79.0, 105.0, 36.0], [413.0, 'WormadamSandy Cloak', 'BugGround', 424.0, 60.0, 79.0, 105.0, 59.0, 85.0, 36.0], [413.0, 'WormadamTrash Cloak', 'BugSteel', 424.0, 60.0, 69.0, 95.0, 69.0, 95.0, 36.0], [414.0, 'Mothim', 'BugFlying', 424.0, 70.0, 94.0, 50.0, 94.0, 50.0, 66.0], [415.0, 'Combee', 'BugFlying', 244.0, 30.0, 30.0, 42.0, 30.0, 42.0, 70.0], [416.0, 'Vespiquen', 'BugFlying', 474.0, 70.0, 80.0, 102.0, 80.0, 102.0, 40.0], [417.0, 'Pachirisu', 'Electric', 405.0, 60.0, 45.0, 70.0, 45.0, 90.0, 95.0], [418.0, 'Buizel', 'Water', 330.0, 55.0, 65.0, 35.0, 60.0, 30.0, 85.0], [419.0, 'Floatzel', 'Water', 495.0, 85.0, 105.0, 55.0, 85.0, 50.0, 115.0], [420.0, 'Cherubi', 'Grass', 275.0, 45.0, 35.0, 45.0, 62.0, 53.0, 35.0], [421.0, 'Cherrim', 'Grass', 450.0, 70.0, 60.0, 70.0, 87.0, 78.0, 85.0], [422.0, 'Shellos', 'Water', 325.0, 76.0, 48.0, 48.0, 57.0, 62.0, 34.0], [423.0, 'Gastrodon', 'WaterGround', 475.0, 111.0, 83.0, 68.0, 92.0, 82.0, 39.0], [424.0, 'Ambipom', 'Normal', 482.0, 75.0, 100.0, 66.0, 60.0, 66.0, 115.0], [425.0, 'Drifloon', 'GhostFlying', 348.0, 90.0, 50.0, 34.0, 60.0, 44.0, 70.0], [426.0, 'Drifblim', 'GhostFlying', 498.0, 150.0, 80.0, 44.0, 90.0, 54.0, 80.0], [427.0, 'Buneary', 'Normal', 350.0, 55.0, 66.0, 44.0, 44.0, 56.0, 85.0], [428.0, 'Lopunny', 'Normal', 480.0, 65.0, 76.0, 84.0, 54.0, 96.0, 105.0], [428.0, 'LopunnyMega Lopunny', 'NormalFighting', 580.0, 65.0, 136.0, 94.0, 54.0, 96.0, 135.0], [429.0, 'Mismagius', 'Ghost', 495.0, 60.0, 60.0, 60.0, 105.0, 105.0, 105.0], [430.0, 'Honchkrow', 'DarkFlying', 505.0, 100.0, 125.0, 52.0, 105.0, 52.0, 71.0], [431.0, 'Glameow', 'Normal', 310.0, 49.0, 55.0, 42.0, 42.0, 37.0, 85.0], [432.0, 'Purugly', 'Normal', 452.0, 71.0, 82.0, 64.0, 64.0, 59.0, 112.0], [433.0, 'Chingling', 'Psychic', 285.0, 45.0, 30.0, 50.0, 65.0, 50.0, 45.0], [434.0, 'Stunky', 'PoisonDark', 329.0, 63.0, 63.0, 47.0, 41.0, 41.0, 74.0], [435.0, 'Skuntank', 'PoisonDark', 479.0, 103.0, 93.0, 67.0, 71.0, 61.0, 84.0], [436.0, 'Bronzor', 'SteelPsychic', 300.0, 57.0, 24.0, 86.0, 24.0, 86.0, 23.0], [437.0, 'Bronzong', 'SteelPsychic', 500.0, 67.0, 89.0, 116.0, 79.0, 116.0, 33.0], [438.0, 'Bonsly', 'Rock', 290.0, 50.0, 80.0, 95.0, 10.0, 45.0, 10.0], [439.0, 'Mime Jr.', 'PsychicFairy', 310.0, 20.0, 25.0, 45.0, 70.0, 90.0, 60.0], [440.0, 'Happiny', 'Normal', 220.0, 100.0, 5.0, 5.0, 15.0, 65.0, 30.0], [441.0, 'Chatot', 'NormalFlying', 411.0, 76.0, 65.0, 45.0, 92.0, 42.0, 91.0], [442.0, 'Spiritomb', 'GhostDark', 485.0, 50.0, 92.0, 108.0, 92.0, 108.0, 35.0], [443.0, 'Gible', 'DragonGround', 300.0, 58.0, 70.0, 45.0, 40.0, 45.0, 42.0], [444.0, 'Gabite', 'DragonGround', 410.0, 68.0, 90.0, 65.0, 50.0, 55.0, 82.0], [445.0, 'Garchomp', 'DragonGround', 600.0, 108.0, 130.0, 95.0, 80.0, 85.0, 102.0], [445.0, 'GarchompMega Garchomp', 'DragonGround', 700.0, 108.0, 170.0, 115.0, 120.0, 95.0, 92.0], [446.0, 'Munchlax', 'Normal', 390.0, 135.0, 85.0, 40.0, 40.0, 85.0, 5.0], [447.0, 'Riolu', 'Fighting', 285.0, 40.0, 70.0, 40.0, 35.0, 40.0, 60.0], [448.0, 'Lucario', 'FightingSteel', 525.0, 70.0, 110.0, 70.0, 115.0, 70.0, 90.0], [448.0, 'LucarioMega Lucario', 'FightingSteel', 625.0, 70.0, 145.0, 88.0, 140.0, 70.0, 112.0], [449.0, 'Hippopotas', 'Ground', 330.0, 68.0, 72.0, 78.0, 38.0, 42.0, 32.0], [450.0, 'Hippowdon', 'Ground', 525.0, 108.0, 112.0, 118.0, 68.0, 72.0, 47.0], [451.0, 'Skorupi', 'PoisonBug', 330.0, 40.0, 50.0, 90.0, 30.0, 55.0, 65.0], [452.0, 'Drapion', 'PoisonDark', 500.0, 70.0, 90.0, 110.0, 60.0, 75.0, 95.0], [453.0, 'Croagunk', 'PoisonFighting', 300.0, 48.0, 61.0, 40.0, 61.0, 40.0, 50.0], [454.0, 'Toxicroak', 'PoisonFighting', 490.0, 83.0, 106.0, 65.0, 86.0, 65.0, 85.0], [455.0, 'Carnivine', 'Grass', 454.0, 74.0, 100.0, 72.0, 90.0, 72.0, 46.0], [456.0, 'Finneon', 'Water', 330.0, 49.0, 49.0, 56.0, 49.0, 61.0, 66.0], [457.0, 'Lumineon', 'Water', 460.0, 69.0, 69.0, 76.0, 69.0, 86.0, 91.0], [458.0, 'Mantyke', 'WaterFlying', 345.0, 45.0, 20.0, 50.0, 60.0, 120.0, 50.0], [459.0, 'Snover', 'GrassIce', 334.0, 60.0, 62.0, 50.0, 62.0, 60.0, 40.0], [460.0, 'Abomasnow', 'GrassIce', 494.0, 90.0, 92.0, 75.0, 92.0, 85.0, 60.0], [460.0, 'AbomasnowMega Abomasnow', 'GrassIce', 594.0, 90.0, 132.0, 105.0, 132.0, 105.0, 30.0], [461.0, 'Weavile', 'DarkIce', 510.0, 70.0, 120.0, 65.0, 45.0, 85.0, 125.0], [462.0, 'Magnezone', 'ElectricSteel', 535.0, 70.0, 70.0, 115.0, 130.0, 90.0, 60.0], [463.0, 'Lickilicky', 'Normal', 515.0, 110.0, 85.0, 95.0, 80.0, 95.0, 50.0], [464.0, 'Rhyperior', 'GroundRock', 535.0, 115.0, 140.0, 130.0, 55.0, 55.0, 40.0], [465.0, 'Tangrowth', 'Grass', 535.0, 100.0, 100.0, 125.0, 110.0, 50.0, 50.0], [466.0, 'Electivire', 'Electric', 540.0, 75.0, 123.0, 67.0, 95.0, 85.0, 95.0], [467.0, 'Magmortar', 'Fire', 540.0, 75.0, 95.0, 67.0, 125.0, 95.0, 83.0], [468.0, 'Togekiss', 'FairyFlying', 545.0, 85.0, 50.0, 95.0, 120.0, 115.0, 80.0], [469.0, 'Yanmega', 'BugFlying', 515.0, 86.0, 76.0, 86.0, 116.0, 56.0, 95.0], [470.0, 'Leafeon', 'Grass', 525.0, 65.0, 110.0, 130.0, 60.0, 65.0, 95.0], [471.0, 'Glaceon', 'Ice', 525.0, 65.0, 60.0, 110.0, 130.0, 95.0, 65.0], [472.0, 'Gliscor', 'GroundFlying', 510.0, 75.0, 95.0, 125.0, 45.0, 75.0, 95.0], [473.0, 'Mamoswine', 'IceGround', 530.0, 110.0, 130.0, 80.0, 70.0, 60.0, 80.0], [474.0, 'Porygon-Z', 'Normal', 535.0, 85.0, 80.0, 70.0, 135.0, 75.0, 90.0], [475.0, 'Gallade', 'PsychicFighting', 518.0, 68.0, 125.0, 65.0, 65.0, 115.0, 80.0], [475.0, 'GalladeMega Gallade', 'PsychicFighting', 618.0, 68.0, 165.0, 95.0, 65.0, 115.0, 110.0], [476.0, 'Probopass', 'RockSteel', 525.0, 60.0, 55.0, 145.0, 75.0, 150.0, 40.0], [477.0, 'Dusknoir', 'Ghost', 525.0, 45.0, 100.0, 135.0, 65.0, 135.0, 45.0], [478.0, 'Froslass', 'IceGhost', 480.0, 70.0, 80.0, 70.0, 80.0, 70.0, 110.0], [479.0, 'Rotom', 'ElectricGhost', 440.0, 50.0, 50.0, 77.0, 95.0, 77.0, 91.0], [479.0, 'RotomHeat Rotom', 'ElectricFire', 520.0, 50.0, 65.0, 107.0, 105.0, 107.0, 86.0], [479.0, 'RotomWash Rotom', 'ElectricWater', 520.0, 50.0, 65.0, 107.0, 105.0, 107.0, 86.0], [479.0, 'RotomFrost Rotom', 'ElectricIce', 520.0, 50.0, 65.0, 107.0, 105.0, 107.0, 86.0], [479.0, 'RotomFan Rotom', 'ElectricFlying', 520.0, 50.0, 65.0, 107.0, 105.0, 107.0, 86.0], [479.0, 'RotomMow Rotom', 'ElectricGrass', 520.0, 50.0, 65.0, 107.0, 105.0, 107.0, 86.0], [480.0, 'Uxie', 'Psychic', 580.0, 75.0, 75.0, 130.0, 75.0, 130.0, 95.0], [481.0, 'Mesprit', 'Psychic', 580.0, 80.0, 105.0, 105.0, 105.0, 105.0, 80.0], [482.0, 'Azelf', 'Psychic', 580.0, 75.0, 125.0, 70.0, 125.0, 70.0, 115.0], [483.0, 'Dialga', 'SteelDragon', 680.0, 100.0, 120.0, 120.0, 150.0, 100.0, 90.0], [484.0, 'Palkia', 'WaterDragon', 680.0, 90.0, 120.0, 100.0, 150.0, 120.0, 100.0], [485.0, 'Heatran', 'FireSteel', 600.0, 91.0, 90.0, 106.0, 130.0, 106.0, 77.0], [486.0, 'Regigigas', 'Normal', 670.0, 110.0, 160.0, 110.0, 80.0, 110.0, 100.0], [487.0, 'GiratinaAltered Forme', 'GhostDragon', 680.0, 150.0, 100.0, 120.0, 100.0, 120.0, 90.0], [487.0, 'GiratinaOrigin Forme', 'GhostDragon', 680.0, 150.0, 120.0, 100.0, 120.0, 100.0, 90.0], [488.0, 'Cresselia', 'Psychic', 600.0, 120.0, 70.0, 120.0, 75.0, 130.0, 85.0], [489.0, 'Phione', 'Water', 480.0, 80.0, 80.0, 80.0, 80.0, 80.0, 80.0], [490.0, 'Manaphy', 'Water', 600.0, 100.0, 100.0, 100.0, 100.0, 100.0, 100.0], [491.0, 'Darkrai', 'Dark', 600.0, 70.0, 90.0, 90.0, 135.0, 90.0, 125.0], [492.0, 'ShayminLand Forme', 'Grass', 600.0, 100.0, 100.0, 100.0, 100.0, 100.0, 100.0], [492.0, 'ShayminSky Forme', 'GrassFlying', 600.0, 100.0, 103.0, 75.0, 120.0, 75.0, 127.0], [493.0, 'Arceus', 'Normal', 720.0, 120.0, 120.0, 120.0, 120.0, 120.0, 120.0], [494.0, 'Victini', 'PsychicFire', 600.0, 100.0, 100.0, 100.0, 100.0, 100.0, 100.0], [495.0, 'Snivy', 'Grass', 308.0, 45.0, 45.0, 55.0, 45.0, 55.0, 63.0], [496.0, 'Servine', 'Grass', 413.0, 60.0, 60.0, 75.0, 60.0, 75.0, 83.0], [497.0, 'Serperior', 'Grass', 528.0, 75.0, 75.0, 95.0, 75.0, 95.0, 113.0], [498.0, 'Tepig', 'Fire', 308.0, 65.0, 63.0, 45.0, 45.0, 45.0, 45.0], [499.0, 'Pignite', 'FireFighting', 418.0, 90.0, 93.0, 55.0, 70.0, 55.0, 55.0], [500.0, 'Emboar', 'FireFighting', 528.0, 110.0, 123.0, 65.0, 100.0, 65.0, 65.0], [501.0, 'Oshawott', 'Water', 308.0, 55.0, 55.0, 45.0, 63.0, 45.0, 45.0], [502.0, 'Dewott', 'Water', 413.0, 75.0, 75.0, 60.0, 83.0, 60.0, 60.0], [503.0, 'Samurott', 'Water', 528.0, 95.0, 100.0, 85.0, 108.0, 70.0, 70.0], [504.0, 'Patrat', 'Normal', 255.0, 45.0, 55.0, 39.0, 35.0, 39.0, 42.0], [505.0, 'Watchog', 'Normal', 420.0, 60.0, 85.0, 69.0, 60.0, 69.0, 77.0], [506.0, 'Lillipup', 'Normal', 275.0, 45.0, 60.0, 45.0, 25.0, 45.0, 55.0], [507.0, 'Herdier', 'Normal', 370.0, 65.0, 80.0, 65.0, 35.0, 65.0, 60.0], [508.0, 'Stoutland', 'Normal', 500.0, 85.0, 110.0, 90.0, 45.0, 90.0, 80.0], [509.0, 'Purrloin', 'Dark', 281.0, 41.0, 50.0, 37.0, 50.0, 37.0, 66.0], [510.0, 'Liepard', 'Dark', 446.0, 64.0, 88.0, 50.0, 88.0, 50.0, 106.0], [511.0, 'Pansage', 'Grass', 316.0, 50.0, 53.0, 48.0, 53.0, 48.0, 64.0], [512.0, 'Simisage', 'Grass', 498.0, 75.0, 98.0, 63.0, 98.0, 63.0, 101.0], [513.0, 'Pansear', 'Fire', 316.0, 50.0, 53.0, 48.0, 53.0, 48.0, 64.0], [514.0, 'Simisear', 'Fire', 498.0, 75.0, 98.0, 63.0, 98.0, 63.0, 101.0], [515.0, 'Panpour', 'Water', 316.0, 50.0, 53.0, 48.0, 53.0, 48.0, 64.0], [516.0, 'Simipour', 'Water', 498.0, 75.0, 98.0, 63.0, 98.0, 63.0, 101.0], [517.0, 'Munna', 'Psychic', 292.0, 76.0, 25.0, 45.0, 67.0, 55.0, 24.0], [518.0, 'Musharna', 'Psychic', 487.0, 116.0, 55.0, 85.0, 107.0, 95.0, 29.0], [519.0, 'Pidove', 'NormalFlying', 264.0, 50.0, 55.0, 50.0, 36.0, 30.0, 43.0], [520.0, 'Tranquill', 'NormalFlying', 358.0, 62.0, 77.0, 62.0, 50.0, 42.0, 65.0], [521.0, 'Unfezant', 'NormalFlying', 488.0, 80.0, 115.0, 80.0, 65.0, 55.0, 93.0], [522.0, 'Blitzle', 'Electric', 295.0, 45.0, 60.0, 32.0, 50.0, 32.0, 76.0], [523.0, 'Zebstrika', 'Electric', 497.0, 75.0, 100.0, 63.0, 80.0, 63.0, 116.0], [524.0, 'Roggenrola', 'Rock', 280.0, 55.0, 75.0, 85.0, 25.0, 25.0, 15.0], [525.0, 'Boldore', 'Rock', 390.0, 70.0, 105.0, 105.0, 50.0, 40.0, 20.0], [526.0, 'Gigalith', 'Rock', 515.0, 85.0, 135.0, 130.0, 60.0, 80.0, 25.0], [527.0, 'Woobat', 'PsychicFlying', 313.0, 55.0, 45.0, 43.0, 55.0, 43.0, 72.0], [528.0, 'Swoobat', 'PsychicFlying', 425.0, 67.0, 57.0, 55.0, 77.0, 55.0, 114.0], [529.0, 'Drilbur', 'Ground', 328.0, 60.0, 85.0, 40.0, 30.0, 45.0, 68.0], [530.0, 'Excadrill', 'GroundSteel', 508.0, 110.0, 135.0, 60.0, 50.0, 65.0, 88.0], [531.0, 'Audino', 'Normal', 445.0, 103.0, 60.0, 86.0, 60.0, 86.0, 50.0], [531.0, 'AudinoMega Audino', 'NormalFairy', 545.0, 103.0, 60.0, 126.0, 80.0, 126.0, 50.0], [532.0, 'Timburr', 'Fighting', 305.0, 75.0, 80.0, 55.0, 25.0, 35.0, 35.0], [533.0, 'Gurdurr', 'Fighting', 405.0, 85.0, 105.0, 85.0, 40.0, 50.0, 40.0], [534.0, 'Conkeldurr', 'Fighting', 505.0, 105.0, 140.0, 95.0, 55.0, 65.0, 45.0], [535.0, 'Tympole', 'Water', 294.0, 50.0, 50.0, 40.0, 50.0, 40.0, 64.0], [536.0, 'Palpitoad', 'WaterGround', 384.0, 75.0, 65.0, 55.0, 65.0, 55.0, 69.0], [537.0, 'Seismitoad', 'WaterGround', 509.0, 105.0, 95.0, 75.0, 85.0, 75.0, 74.0], [538.0, 'Throh', 'Fighting', 465.0, 120.0, 100.0, 85.0, 30.0, 85.0, 45.0], [539.0, 'Sawk', 'Fighting', 465.0, 75.0, 125.0, 75.0, 30.0, 75.0, 85.0], [540.0, 'Sewaddle', 'BugGrass', 310.0, 45.0, 53.0, 70.0, 40.0, 60.0, 42.0], [541.0, 'Swadloon', 'BugGrass', 380.0, 55.0, 63.0, 90.0, 50.0, 80.0, 42.0], [542.0, 'Leavanny', 'BugGrass', 500.0, 75.0, 103.0, 80.0, 70.0, 80.0, 92.0], [543.0, 'Venipede', 'BugPoison', 260.0, 30.0, 45.0, 59.0, 30.0, 39.0, 57.0], [544.0, 'Whirlipede', 'BugPoison', 360.0, 40.0, 55.0, 99.0, 40.0, 79.0, 47.0], [545.0, 'Scolipede', 'BugPoison', 485.0, 60.0, 100.0, 89.0, 55.0, 69.0, 112.0], [546.0, 'Cottonee', 'GrassFairy', 280.0, 40.0, 27.0, 60.0, 37.0, 50.0, 66.0], [547.0, 'Whimsicott', 'GrassFairy', 480.0, 60.0, 67.0, 85.0, 77.0, 75.0, 116.0], [548.0, 'Petilil', 'Grass', 280.0, 45.0, 35.0, 50.0, 70.0, 50.0, 30.0], [549.0, 'Lilligant', 'Grass', 480.0, 70.0, 60.0, 75.0, 110.0, 75.0, 90.0], [550.0, 'Basculin', 'Water', 460.0, 70.0, 92.0, 65.0, 80.0, 55.0, 98.0], [551.0, 'Sandile', 'GroundDark', 292.0, 50.0, 72.0, 35.0, 35.0, 35.0, 65.0], [552.0, 'Krokorok', 'GroundDark', 351.0, 60.0, 82.0, 45.0, 45.0, 45.0, 74.0], [553.0, 'Krookodile', 'GroundDark', 519.0, 95.0, 117.0, 80.0, 65.0, 70.0, 92.0], [554.0, 'Darumaka', 'Fire', 315.0, 70.0, 90.0, 45.0, 15.0, 45.0, 50.0], [555.0, 'DarmanitanStandard Mode', 'Fire', 480.0, 105.0, 140.0, 55.0, 30.0, 55.0, 95.0], [555.0, 'DarmanitanZen Mode', 'FirePsychic', 540.0, 105.0, 30.0, 105.0, 140.0, 105.0, 55.0], [556.0, 'Maractus', 'Grass', 461.0, 75.0, 86.0, 67.0, 106.0, 67.0, 60.0], [557.0, 'Dwebble', 'BugRock', 325.0, 50.0, 65.0, 85.0, 35.0, 35.0, 55.0], [558.0, 'Crustle', 'BugRock', 475.0, 70.0, 95.0, 125.0, 65.0, 75.0, 45.0], [559.0, 'Scraggy', 'DarkFighting', 348.0, 50.0, 75.0, 70.0, 35.0, 70.0, 48.0], [560.0, 'Scrafty', 'DarkFighting', 488.0, 65.0, 90.0, 115.0, 45.0, 115.0, 58.0], [561.0, 'Sigilyph', 'PsychicFlying', 490.0, 72.0, 58.0, 80.0, 103.0, 80.0, 97.0], [562.0, 'Yamask', 'Ghost', 303.0, 38.0, 30.0, 85.0, 55.0, 65.0, 30.0], [563.0, 'Cofagrigus', 'Ghost', 483.0, 58.0, 50.0, 145.0, 95.0, 105.0, 30.0], [564.0, 'Tirtouga', 'WaterRock', 355.0, 54.0, 78.0, 103.0, 53.0, 45.0, 22.0], [565.0, 'Carracosta', 'WaterRock', 495.0, 74.0, 108.0, 133.0, 83.0, 65.0, 32.0], [566.0, 'Archen', 'RockFlying', 401.0, 55.0, 112.0, 45.0, 74.0, 45.0, 70.0], [567.0, 'Archeops', 'RockFlying', 567.0, 75.0, 140.0, 65.0, 112.0, 65.0, 110.0], [568.0, 'Trubbish', 'Poison', 329.0, 50.0, 50.0, 62.0, 40.0, 62.0, 65.0], [569.0, 'Garbodor', 'Poison', 474.0, 80.0, 95.0, 82.0, 60.0, 82.0, 75.0], [570.0, 'Zorua', 'Dark', 330.0, 40.0, 65.0, 40.0, 80.0, 40.0, 65.0], [571.0, 'Zoroark', 'Dark', 510.0, 60.0, 105.0, 60.0, 120.0, 60.0, 105.0], [572.0, 'Minccino', 'Normal', 300.0, 55.0, 50.0, 40.0, 40.0, 40.0, 75.0], [573.0, 'Cinccino', 'Normal', 470.0, 75.0, 95.0, 60.0, 65.0, 60.0, 115.0], [574.0, 'Gothita', 'Psychic', 290.0, 45.0, 30.0, 50.0, 55.0, 65.0, 45.0], [575.0, 'Gothorita', 'Psychic', 390.0, 60.0, 45.0, 70.0, 75.0, 85.0, 55.0], [576.0, 'Gothitelle', 'Psychic', 490.0, 70.0, 55.0, 95.0, 95.0, 110.0, 65.0], [577.0, 'Solosis', 'Psychic', 290.0, 45.0, 30.0, 40.0, 105.0, 50.0, 20.0], [578.0, 'Duosion', 'Psychic', 370.0, 65.0, 40.0, 50.0, 125.0, 60.0, 30.0], [579.0, 'Reuniclus', 'Psychic', 490.0, 110.0, 65.0, 75.0, 125.0, 85.0, 30.0], [580.0, 'Ducklett', 'WaterFlying', 305.0, 62.0, 44.0, 50.0, 44.0, 50.0, 55.0], [581.0, 'Swanna', 'WaterFlying', 473.0, 75.0, 87.0, 63.0, 87.0, 63.0, 98.0], [582.0, 'Vanillite', 'Ice', 305.0, 36.0, 50.0, 50.0, 65.0, 60.0, 44.0], [583.0, 'Vanillish', 'Ice', 395.0, 51.0, 65.0, 65.0, 80.0, 75.0, 59.0], [584.0, 'Vanilluxe', 'Ice', 535.0, 71.0, 95.0, 85.0, 110.0, 95.0, 79.0], [585.0, 'Deerling', 'NormalGrass', 335.0, 60.0, 60.0, 50.0, 40.0, 50.0, 75.0], [586.0, 'Sawsbuck', 'NormalGrass', 475.0, 80.0, 100.0, 70.0, 60.0, 70.0, 95.0], [587.0, 'Emolga', 'ElectricFlying', 428.0, 55.0, 75.0, 60.0, 75.0, 60.0, 103.0], [588.0, 'Karrablast', 'Bug', 315.0, 50.0, 75.0, 45.0, 40.0, 45.0, 60.0], [589.0, 'Escavalier', 'BugSteel', 495.0, 70.0, 135.0, 105.0, 60.0, 105.0, 20.0], [590.0, 'Foongus', 'GrassPoison', 294.0, 69.0, 55.0, 45.0, 55.0, 55.0, 15.0], [591.0, 'Amoonguss', 'GrassPoison', 464.0, 114.0, 85.0, 70.0, 85.0, 80.0, 30.0], [592.0, 'Frillish', 'WaterGhost', 335.0, 55.0, 40.0, 50.0, 65.0, 85.0, 40.0], [593.0, 'Jellicent', 'WaterGhost', 480.0, 100.0, 60.0, 70.0, 85.0, 105.0, 60.0], [594.0, 'Alomomola', 'Water', 470.0, 165.0, 75.0, 80.0, 40.0, 45.0, 65.0], [595.0, 'Joltik', 'BugElectric', 319.0, 50.0, 47.0, 50.0, 57.0, 50.0, 65.0], [596.0, 'Galvantula', 'BugElectric', 472.0, 70.0, 77.0, 60.0, 97.0, 60.0, 108.0], [597.0, 'Ferroseed', 'GrassSteel', 305.0, 44.0, 50.0, 91.0, 24.0, 86.0, 10.0], [598.0, 'Ferrothorn', 'GrassSteel', 489.0, 74.0, 94.0, 131.0, 54.0, 116.0, 20.0], [599.0, 'Klink', 'Steel', 300.0, 40.0, 55.0, 70.0, 45.0, 60.0, 30.0], [600.0, 'Klang', 'Steel', 440.0, 60.0, 80.0, 95.0, 70.0, 85.0, 50.0], [601.0, 'Klinklang', 'Steel', 520.0, 60.0, 100.0, 115.0, 70.0, 85.0, 90.0], [602.0, 'Tynamo', 'Electric', 275.0, 35.0, 55.0, 40.0, 45.0, 40.0, 60.0], [603.0, 'Eelektrik', 'Electric', 405.0, 65.0, 85.0, 70.0, 75.0, 70.0, 40.0], [604.0, 'Eelektross', 'Electric', 515.0, 85.0, 115.0, 80.0, 105.0, 80.0, 50.0], [605.0, 'Elgyem', 'Psychic', 335.0, 55.0, 55.0, 55.0, 85.0, 55.0, 30.0], [606.0, 'Beheeyem', 'Psychic', 485.0, 75.0, 75.0, 75.0, 125.0, 95.0, 40.0], [607.0, 'Litwick', 'GhostFire', 275.0, 50.0, 30.0, 55.0, 65.0, 55.0, 20.0], [608.0, 'Lampent', 'GhostFire', 370.0, 60.0, 40.0, 60.0, 95.0, 60.0, 55.0], [609.0, 'Chandelure', 'GhostFire', 520.0, 60.0, 55.0, 90.0, 145.0, 90.0, 80.0], [610.0, 'Axew', 'Dragon', 320.0, 46.0, 87.0, 60.0, 30.0, 40.0, 57.0], [611.0, 'Fraxure', 'Dragon', 410.0, 66.0, 117.0, 70.0, 40.0, 50.0, 67.0], [612.0, 'Haxorus', 'Dragon', 540.0, 76.0, 147.0, 90.0, 60.0, 70.0, 97.0], [613.0, 'Cubchoo', 'Ice', 305.0, 55.0, 70.0, 40.0, 60.0, 40.0, 40.0], [614.0, 'Beartic', 'Ice', 485.0, 95.0, 110.0, 80.0, 70.0, 80.0, 50.0], [615.0, 'Cryogonal', 'Ice', 485.0, 70.0, 50.0, 30.0, 95.0, 135.0, 105.0], [616.0, 'Shelmet', 'Bug', 305.0, 50.0, 40.0, 85.0, 40.0, 65.0, 25.0], [617.0, 'Accelgor', 'Bug', 495.0, 80.0, 70.0, 40.0, 100.0, 60.0, 145.0], [618.0, 'Stunfisk', 'GroundElectric', 471.0, 109.0, 66.0, 84.0, 81.0, 99.0, 32.0], [619.0, 'Mienfoo', 'Fighting', 350.0, 45.0, 85.0, 50.0, 55.0, 50.0, 65.0], [620.0, 'Mienshao', 'Fighting', 510.0, 65.0, 125.0, 60.0, 95.0, 60.0, 105.0], [621.0, 'Druddigon', 'Dragon', 485.0, 77.0, 120.0, 90.0, 60.0, 90.0, 48.0], [622.0, 'Golett', 'GroundGhost', 303.0, 59.0, 74.0, 50.0, 35.0, 50.0, 35.0], [623.0, 'Golurk', 'GroundGhost', 483.0, 89.0, 124.0, 80.0, 55.0, 80.0, 55.0], [624.0, 'Pawniard', 'DarkSteel', 340.0, 45.0, 85.0, 70.0, 40.0, 40.0, 60.0], [625.0, 'Bisharp', 'DarkSteel', 490.0, 65.0, 125.0, 100.0, 60.0, 70.0, 70.0], [626.0, 'Bouffalant', 'Normal', 490.0, 95.0, 110.0, 95.0, 40.0, 95.0, 55.0], [627.0, 'Rufflet', 'NormalFlying', 350.0, 70.0, 83.0, 50.0, 37.0, 50.0, 60.0], [628.0, 'Braviary', 'NormalFlying', 510.0, 100.0, 123.0, 75.0, 57.0, 75.0, 80.0], [629.0, 'Vullaby', 'DarkFlying', 370.0, 70.0, 55.0, 75.0, 45.0, 65.0, 60.0], [630.0, 'Mandibuzz', 'DarkFlying', 510.0, 110.0, 65.0, 105.0, 55.0, 95.0, 80.0], [631.0, 'Heatmor', 'Fire', 484.0, 85.0, 97.0, 66.0, 105.0, 66.0, 65.0], [632.0, 'Durant', 'BugSteel', 484.0, 58.0, 109.0, 112.0, 48.0, 48.0, 109.0], [633.0, 'Deino', 'DarkDragon', 300.0, 52.0, 65.0, 50.0, 45.0, 50.0, 38.0], [634.0, 'Zweilous', 'DarkDragon', 420.0, 72.0, 85.0, 70.0, 65.0, 70.0, 58.0], [635.0, 'Hydreigon', 'DarkDragon', 600.0, 92.0, 105.0, 90.0, 125.0, 90.0, 98.0], [636.0, 'Larvesta', 'BugFire', 360.0, 55.0, 85.0, 55.0, 50.0, 55.0, 60.0], [637.0, 'Volcarona', 'BugFire', 550.0, 85.0, 60.0, 65.0, 135.0, 105.0, 100.0], [638.0, 'Cobalion', 'SteelFighting', 580.0, 91.0, 90.0, 129.0, 90.0, 72.0, 108.0], [639.0, 'Terrakion', 'RockFighting', 580.0, 91.0, 129.0, 90.0, 72.0, 90.0, 108.0], [640.0, 'Virizion', 'GrassFighting', 580.0, 91.0, 90.0, 72.0, 90.0, 129.0, 108.0], [641.0, 'TornadusIncarnate Forme', 'Flying', 580.0, 79.0, 115.0, 70.0, 125.0, 80.0, 111.0], [641.0, 'TornadusTherian Forme', 'Flying', 580.0, 79.0, 100.0, 80.0, 110.0, 90.0, 121.0], [642.0, 'ThundurusIncarnate Forme', 'ElectricFlying', 580.0, 79.0, 115.0, 70.0, 125.0, 80.0, 111.0], [642.0, 'ThundurusTherian Forme', 'ElectricFlying', 580.0, 79.0, 105.0, 70.0, 145.0, 80.0, 101.0], [643.0, 'Reshiram', 'DragonFire', 680.0, 100.0, 120.0, 100.0, 150.0, 120.0, 90.0], [644.0, 'Zekrom', 'DragonElectric', 680.0, 100.0, 150.0, 120.0, 120.0, 100.0, 90.0], [645.0, 'LandorusIncarnate Forme', 'GroundFlying', 600.0, 89.0, 125.0, 90.0, 115.0, 80.0, 101.0], [645.0, 'LandorusTherian Forme', 'GroundFlying', 600.0, 89.0, 145.0, 90.0, 105.0, 80.0, 91.0], [646.0, 'Kyurem', 'DragonIce', 660.0, 125.0, 130.0, 90.0, 130.0, 90.0, 95.0], [646.0, 'KyuremBlack Kyurem', 'DragonIce', 700.0, 125.0, 170.0, 100.0, 120.0, 90.0, 95.0], [646.0, 'KyuremWhite Kyurem', 'DragonIce', 700.0, 125.0, 120.0, 90.0, 170.0, 100.0, 95.0], [647.0, 'KeldeoOrdinary Forme', 'WaterFighting', 580.0, 91.0, 72.0, 90.0, 129.0, 90.0, 108.0], [647.0, 'KeldeoResolute Forme', 'WaterFighting', 580.0, 91.0, 72.0, 90.0, 129.0, 90.0, 108.0], [648.0, 'MeloettaAria Forme', 'NormalPsychic', 600.0, 100.0, 77.0, 77.0, 128.0, 128.0, 90.0], [648.0, 'MeloettaPirouette Forme', 'NormalFighting', 600.0, 100.0, 128.0, 90.0, 77.0, 77.0, 128.0], [649.0, 'Genesect', 'BugSteel', 600.0, 71.0, 120.0, 95.0, 120.0, 95.0, 99.0], [650.0, 'Chespin', 'Grass', 313.0, 56.0, 61.0, 65.0, 48.0, 45.0, 38.0], [651.0, 'Quilladin', 'Grass', 405.0, 61.0, 78.0, 95.0, 56.0, 58.0, 57.0], [652.0, 'Chesnaught', 'GrassFighting', 530.0, 88.0, 107.0, 122.0, 74.0, 75.0, 64.0], [653.0, 'Fennekin', 'Fire', 307.0, 40.0, 45.0, 40.0, 62.0, 60.0, 60.0], [654.0, 'Braixen', 'Fire', 409.0, 59.0, 59.0, 58.0, 90.0, 70.0, 73.0], [655.0, 'Delphox', 'FirePsychic', 534.0, 75.0, 69.0, 72.0, 114.0, 100.0, 104.0], [656.0, 'Froakie', 'Water', 314.0, 41.0, 56.0, 40.0, 62.0, 44.0, 71.0], [657.0, 'Frogadier', 'Water', 405.0, 54.0, 63.0, 52.0, 83.0, 56.0, 97.0], [658.0, 'Greninja', 'WaterDark', 530.0, 72.0, 95.0, 67.0, 103.0, 71.0, 122.0], [659.0, 'Bunnelby', 'Normal', 237.0, 38.0, 36.0, 38.0, 32.0, 36.0, 57.0], [660.0, 'Diggersby', 'NormalGround', 423.0, 85.0, 56.0, 77.0, 50.0, 77.0, 78.0], [661.0, 'Fletchling', 'NormalFlying', 278.0, 45.0, 50.0, 43.0, 40.0, 38.0, 62.0], [662.0, 'Fletchinder', 'FireFlying', 382.0, 62.0, 73.0, 55.0, 56.0, 52.0, 84.0], [663.0, 'Talonflame', 'FireFlying', 499.0, 78.0, 81.0, 71.0, 74.0, 69.0, 126.0], [664.0, 'Scatterbug', 'Bug', 200.0, 38.0, 35.0, 40.0, 27.0, 25.0, 35.0], [665.0, 'Spewpa', 'Bug', 213.0, 45.0, 22.0, 60.0, 27.0, 30.0, 29.0], [666.0, 'Vivillon', 'BugFlying', 411.0, 80.0, 52.0, 50.0, 90.0, 50.0, 89.0], [667.0, 'Litleo', 'FireNormal', 369.0, 62.0, 50.0, 58.0, 73.0, 54.0, 72.0], [668.0, 'Pyroar', 'FireNormal', 507.0, 86.0, 68.0, 72.0, 109.0, 66.0, 106.0], [669.0, 'Flab\\xc3\\xa9b\\xc3\\xa9', 'Fairy', 303.0, 44.0, 38.0, 39.0, 61.0, 79.0, 42.0], [670.0, 'Floette', 'Fairy', 371.0, 54.0, 45.0, 47.0, 75.0, 98.0, 52.0], [671.0, 'Florges', 'Fairy', 552.0, 78.0, 65.0, 68.0, 112.0, 154.0, 75.0], [672.0, 'Skiddo', 'Grass', 350.0, 66.0, 65.0, 48.0, 62.0, 57.0, 52.0], [673.0, 'Gogoat', 'Grass', 531.0, 123.0, 100.0, 62.0, 97.0, 81.0, 68.0], [674.0, 'Pancham', 'Fighting', 348.0, 67.0, 82.0, 62.0, 46.0, 48.0, 43.0], [675.0, 'Pangoro', 'FightingDark', 495.0, 95.0, 124.0, 78.0, 69.0, 71.0, 58.0], [676.0, 'Furfrou', 'Normal', 472.0, 75.0, 80.0, 60.0, 65.0, 90.0, 102.0], [677.0, 'Espurr', 'Psychic', 355.0, 62.0, 48.0, 54.0, 63.0, 60.0, 68.0], [678.0, 'MeowsticMale', 'Psychic', 466.0, 74.0, 48.0, 76.0, 83.0, 81.0, 104.0], [678.0, 'MeowsticFemale', 'Psychic', 466.0, 74.0, 48.0, 76.0, 83.0, 81.0, 104.0], [679.0, 'Honedge', 'SteelGhost', 325.0, 45.0, 80.0, 100.0, 35.0, 37.0, 28.0], [680.0, 'Doublade', 'SteelGhost', 448.0, 59.0, 110.0, 150.0, 45.0, 49.0, 35.0], [681.0, 'AegislashBlade Forme', 'SteelGhost', 520.0, 60.0, 150.0, 50.0, 150.0, 50.0, 60.0], [681.0, 'AegislashShield Forme', 'SteelGhost', 520.0, 60.0, 50.0, 150.0, 50.0, 150.0, 60.0], [682.0, 'Spritzee', 'Fairy', 341.0, 78.0, 52.0, 60.0, 63.0, 65.0, 23.0], [683.0, 'Aromatisse', 'Fairy', 462.0, 101.0, 72.0, 72.0, 99.0, 89.0, 29.0], [684.0, 'Swirlix', 'Fairy', 341.0, 62.0, 48.0, 66.0, 59.0, 57.0, 49.0], [685.0, 'Slurpuff', 'Fairy', 480.0, 82.0, 80.0, 86.0, 85.0, 75.0, 72.0], [686.0, 'Inkay', 'DarkPsychic', 288.0, 53.0, 54.0, 53.0, 37.0, 46.0, 45.0], [687.0, 'Malamar', 'DarkPsychic', 482.0, 86.0, 92.0, 88.0, 68.0, 75.0, 73.0], [688.0, 'Binacle', 'RockWater', 306.0, 42.0, 52.0, 67.0, 39.0, 56.0, 50.0], [689.0, 'Barbaracle', 'RockWater', 500.0, 72.0, 105.0, 115.0, 54.0, 86.0, 68.0], [690.0, 'Skrelp', 'PoisonWater', 320.0, 50.0, 60.0, 60.0, 60.0, 60.0, 30.0], [691.0, 'Dragalge', 'PoisonDragon', 494.0, 65.0, 75.0, 90.0, 97.0, 123.0, 44.0], [692.0, 'Clauncher', 'Water', 330.0, 50.0, 53.0, 62.0, 58.0, 63.0, 44.0], [693.0, 'Clawitzer', 'Water', 500.0, 71.0, 73.0, 88.0, 120.0, 89.0, 59.0], [694.0, 'Helioptile', 'ElectricNormal', 289.0, 44.0, 38.0, 33.0, 61.0, 43.0, 70.0], [695.0, 'Heliolisk', 'ElectricNormal', 481.0, 62.0, 55.0, 52.0, 109.0, 94.0, 109.0], [696.0, 'Tyrunt', 'RockDragon', 362.0, 58.0, 89.0, 77.0, 45.0, 45.0, 48.0], [697.0, 'Tyrantrum', 'RockDragon', 521.0, 82.0, 121.0, 119.0, 69.0, 59.0, 71.0], [698.0, 'Amaura', 'RockIce', 362.0, 77.0, 59.0, 50.0, 67.0, 63.0, 46.0], [699.0, 'Aurorus', 'RockIce', 521.0, 123.0, 77.0, 72.0, 99.0, 92.0, 58.0], [700.0, 'Sylveon', 'Fairy', 525.0, 95.0, 65.0, 65.0, 110.0, 130.0, 60.0], [701.0, 'Hawlucha', 'FightingFlying', 500.0, 78.0, 92.0, 75.0, 74.0, 63.0, 118.0], [702.0, 'Dedenne', 'ElectricFairy', 431.0, 67.0, 58.0, 57.0, 81.0, 67.0, 101.0], [703.0, 'Carbink', 'RockFairy', 500.0, 50.0, 50.0, 150.0, 50.0, 150.0, 50.0], [704.0, 'Goomy', 'Dragon', 300.0, 45.0, 50.0, 35.0, 55.0, 75.0, 40.0], [705.0, 'Sliggoo', 'Dragon', 452.0, 68.0, 75.0, 53.0, 83.0, 113.0, 60.0], [706.0, 'Goodra', 'Dragon', 600.0, 90.0, 100.0, 70.0, 110.0, 150.0, 80.0], [707.0, 'Klefki', 'SteelFairy', 470.0, 57.0, 80.0, 91.0, 80.0, 87.0, 75.0], [708.0, 'Phantump', 'GhostGrass', 309.0, 43.0, 70.0, 48.0, 50.0, 60.0, 38.0], [709.0, 'Trevenant', 'GhostGrass', 474.0, 85.0, 110.0, 76.0, 65.0, 82.0, 56.0], [710.0, 'PumpkabooAverage Size', 'GhostGrass', 335.0, 49.0, 66.0, 70.0, 44.0, 55.0, 51.0], [710.0, 'PumpkabooSmall Size', 'GhostGrass', 335.0, 44.0, 66.0, 70.0, 44.0, 55.0, 56.0], [710.0, 'PumpkabooLarge Size', 'GhostGrass', 335.0, 54.0, 66.0, 70.0, 44.0, 55.0, 46.0], [710.0, 'PumpkabooSuper Size', 'GhostGrass', 335.0, 59.0, 66.0, 70.0, 44.0, 55.0, 41.0], [711.0, 'GourgeistAverage Size', 'GhostGrass', 494.0, 65.0, 90.0, 122.0, 58.0, 75.0, 84.0], [711.0, 'GourgeistSmall Size', 'GhostGrass', 494.0, 55.0, 85.0, 122.0, 58.0, 75.0, 99.0], [711.0, 'GourgeistLarge Size', 'GhostGrass', 494.0, 75.0, 95.0, 122.0, 58.0, 75.0, 69.0], [711.0, 'GourgeistSuper Size', 'GhostGrass', 494.0, 85.0, 100.0, 122.0, 58.0, 75.0, 54.0], [712.0, 'Bergmite', 'Ice', 304.0, 55.0, 69.0, 85.0, 32.0, 35.0, 28.0], [713.0, 'Avalugg', 'Ice', 514.0, 95.0, 117.0, 184.0, 44.0, 46.0, 28.0], [714.0, 'Noibat', 'FlyingDragon', 245.0, 40.0, 30.0, 35.0, 45.0, 40.0, 55.0], [715.0, 'Noivern', 'FlyingDragon', 535.0, 85.0, 70.0, 80.0, 97.0, 80.0, 123.0], [716.0, 'Xerneas', 'Fairy', 680.0, 126.0, 131.0, 95.0, 131.0, 98.0, 99.0], [717.0, 'Yveltal', 'DarkFlying', 680.0, 126.0, 131.0, 95.0, 131.0, 98.0, 99.0], [718.0, 'Zygarde50% Forme', 'DragonGround', 600.0, 108.0, 100.0, 121.0, 81.0, 95.0, 95.0], [719.0, 'Diancie', 'RockFairy', 600.0, 50.0, 100.0, 150.0, 100.0, 150.0, 50.0], [719.0, 'DiancieMega Diancie', 'RockFairy', 700.0, 50.0, 160.0, 110.0, 160.0, 110.0, 110.0], [720.0, 'HoopaHoopa Confined', 'PsychicGhost', 600.0, 80.0, 110.0, 60.0, 150.0, 130.0, 70.0], [720.0, 'HoopaHoopa Unbound', 'PsychicDark', 680.0, 80.0, 160.0, 60.0, 170.0, 130.0, 80.0], [721.0, 'Volcanion', 'FireWater', 600.0, 80.0, 110.0, 120.0, 130.0, 90.0, 70.0], ['']]\n"
     ]
    }
   ],
   "source": [
    "# Example output (first 3 sublists):\n",
    "#\n",
    "# ['PokedexNumber', 'Name', 'Type', 'Total', 'HP', 'Attack', 'Defense', 'SpecialAttack', 'SpecialDefense', 'Speed']\n",
    "# [1.0, 'Bulbasaur', 'GrassPoison', 318.0, 45.0, 49.0, 49.0, 65.0, 65.0, 45.0]\n",
    "# [2.0, 'Ivysaur', 'GrassPoison', 405.0, 60.0, 62.0, 63.0, 80.0, 80.0, 60.0]\n",
    "\n",
    "\n",
    "pd = []\n",
    "linespd = raw_pd.split('\\n')\n",
    "linepd = map(lambda x: x.split(','), linespd)\n",
    "\n",
    "def pdfloat(l):\n",
    "    try:\n",
    "        return float(l)\n",
    "    except ValueError:\n",
    "        return l\n",
    "    \n",
    "for line in linepd:\n",
    "    pd.extend([map(pdfloat,map(lambda x: x.replace('\"',''),line))])\n",
    "\n",
    "\n",
    "print pd\n"
   ]
  },
  {
   "cell_type": "markdown",
   "metadata": {},
   "source": [
    "<img src=\"http://imgur.com/gGrau8s.png\" style=\"float: left; margin: 25px 15px 0px 0px; height: 25px\">\n",
    "\n",
    "### 8.2 Parse the raw pokedex with list comprehensions\n",
    "\n",
    "---\n",
    "\n",
    "Perform the same parsing as above, but **using only a single list comprehension** instead of for loops. You may have nested list comprehensions within the main list comprehension! The output should be exactly the same."
   ]
  },
  {
   "cell_type": "code",
   "execution_count": 11,
   "metadata": {
    "collapsed": true
   },
   "outputs": [],
   "source": [
    "\n",
    "# Example output (first 3 sublists):\n",
    "#\n",
    "# ['PokedexNumber', 'Name', 'Type', 'Total', 'HP', 'Attack', 'Defense', 'SpecialAttack', 'SpecialDefense', 'Speed']\n",
    "# [1.0, 'Bulbasaur', 'GrassPoison', 318.0, 45.0, 49.0, 49.0, 65.0, 65.0, 45.0]\n",
    "# [2.0, 'Ivysaur', 'GrassPoison', 405.0, 60.0, 62.0, 63.0, 80.0, 80.0, 60.0]\n",
    "\n"
   ]
  },
  {
   "cell_type": "markdown",
   "metadata": {},
   "source": [
    "<img src=\"http://imgur.com/GCAf1UX.png\" style=\"float: left; margin: 25px 15px 0px 0px; height: 25px\">\n",
    "\n",
    "## 9. Write a function to generate the full pokedex\n",
    "\n",
    "---\n",
    "\n",
    "Write a function that recreates the pokedex you made before, but with the data read in from the full pokemon file. The `PokedexNumber` should be used as the `pokemon_id` key values for the dictionary of pokemon.\n",
    "\n",
    "Your function should:\n",
    "\n",
    "1. Take the parsed pokedex information you created above as an argument.\n",
    "2. Return a dictionary in the same format as your original pokedex you created before containing the information from the parsed full pokedex file.\n",
    "\n",
    "To test the function, print out the pokemon with id = 100."
   ]
  },
  {
   "cell_type": "code",
   "execution_count": 6,
   "metadata": {
    "collapsed": false
   },
   "outputs": [],
   "source": [
    "# Example output:\n",
    "#\n",
    "# {'Attack': 30.0,\n",
    "#  'Defense': 50.0,\n",
    "#  'HP': 40.0,\n",
    "#  'Name': 'Voltorb',\n",
    "#  'SpecialAttack': 55.0,\n",
    "#  'SpecialDefense': 55.0,\n",
    "#  'Speed': 100.0,\n",
    "#  'Total': 330.0,\n",
    "#  'Type': 'Electric'}\n",
    "\n",
    "pokedex_new = {}\n",
    "def dexing(new_pd):\n",
    "    for pokes in new_pd:\n",
    "        pokedex_new[pokes[0]] = {'name':pokes[1],\n",
    "                                 'Type':pokes[2],\n",
    "                                 'Total':pokes[3],\n",
    "                                 'HP':pokes[4],\n",
    "                                 'Attack':pokes[5],\n",
    "                                 'Defense':pokes[6],\n",
    "                                 'SpecialAttack':pokes[7],\n",
    "                                 'SpecialDefense':pokes[8],\n",
    "                                 'Speed':pokes[9]}\n",
    "        yield pokedex_new\n",
    "\n",
    "pdex = dexing(pd)"
   ]
  },
  {
   "cell_type": "code",
   "execution_count": 11,
   "metadata": {
    "collapsed": false
   },
   "outputs": [
    {
     "data": {
      "text/plain": [
       "{1.0: {'Attack': 49.0,\n",
       "  'Defense': 49.0,\n",
       "  'HP': 45.0,\n",
       "  'SpecialAttack': 65.0,\n",
       "  'SpecialDefense': 65.0,\n",
       "  'Speed': 45.0,\n",
       "  'Total': 318.0,\n",
       "  'Type': 'GrassPoison',\n",
       "  'name': 'Bulbasaur'},\n",
       " 2.0: {'Attack': 62.0,\n",
       "  'Defense': 63.0,\n",
       "  'HP': 60.0,\n",
       "  'SpecialAttack': 80.0,\n",
       "  'SpecialDefense': 80.0,\n",
       "  'Speed': 60.0,\n",
       "  'Total': 405.0,\n",
       "  'Type': 'GrassPoison',\n",
       "  'name': 'Ivysaur'},\n",
       " 3.0: {'Attack': 100.0,\n",
       "  'Defense': 123.0,\n",
       "  'HP': 80.0,\n",
       "  'SpecialAttack': 122.0,\n",
       "  'SpecialDefense': 120.0,\n",
       "  'Speed': 80.0,\n",
       "  'Total': 625.0,\n",
       "  'Type': 'GrassPoison',\n",
       "  'name': 'VenusaurMega Venusaur'},\n",
       " 'PokedexNumber': {'Attack': 'Attack',\n",
       "  'Defense': 'Defense',\n",
       "  'HP': 'HP',\n",
       "  'SpecialAttack': 'SpecialAttack',\n",
       "  'SpecialDefense': 'SpecialDefense',\n",
       "  'Speed': 'Speed',\n",
       "  'Total': 'Total',\n",
       "  'Type': 'Type',\n",
       "  'name': 'Name'}}"
      ]
     },
     "execution_count": 11,
     "metadata": {},
     "output_type": "execute_result"
    }
   ],
   "source": [
    "pdex.next()"
   ]
  },
  {
   "cell_type": "markdown",
   "metadata": {},
   "source": [
    "<img src=\"http://imgur.com/GCAf1UX.png\" style=\"float: left; margin: 25px 15px 0px 0px; height: 25px\">\n",
    "\n",
    "## 10. Write a function to generate a \"filtered\" pokedex\n",
    "---\n",
    "Your function should:\n",
    "1. Take the parsed pokedex information you created above as an argument.\n",
    "1. Take a dictionary as a parameter with keys matching the features of the Pokedex, filtering by exact match for string type values, and/or filter continuous variables specified value that is greater than or equal to the dictionary key parameter.\n",
    "1. Return multiple elements from the Pokedex\n",
    "\n",
    "Example:\n",
    "\n",
    "```python\n",
    "\n",
    "# Only filter based on parameters passed\n",
    "filter_options = {\n",
    "    'Attack':   25,\n",
    "    'Defense':  30,\n",
    "    'Type':     'Electric'\n",
    "}\n",
    "\n",
    "# Return records with attack >= 24, defense >= 30, and type == \"Electric\"\n",
    "# Also anticipate that other paramters can also be passed such as \"SpecialAttack\", \"Speed\", etc.\n",
    "filtered_pokedex(pokedex_data, filter=filter_options)\n",
    "\n",
    "# Example output:\n",
    "# [{'Attack': 30.0,\n",
    "#  'Defense': 50.0,\n",
    "#  'HP': 40.0,\n",
    "#  'Name': 'Voltorb',\n",
    "#  'SpecialAttack': 55.0,\n",
    "#  'SpecialDefense': 55.0,\n",
    "#  'Speed': 100.0,\n",
    "#  'Total': 330.0,\n",
    "#  'Type': 'Electric'},\n",
    "#  {'Attack': 30.0,\n",
    "#  'Defense': 33.0,\n",
    "#  'HP': 32.0,\n",
    "#  'Name': 'Pikachu',\n",
    "#  'SpecialAttack': 55.0,\n",
    "#  'SpecialDefense': 55.0,\n",
    "#  'Speed': 100.0,\n",
    "#  'Total': 330.0,\n",
    "#  'Type': 'Electric'},\n",
    "#  ... etc\n",
    "#  ]\n",
    "\n",
    "```\n",
    "\n"
   ]
  },
  {
   "cell_type": "code",
   "execution_count": 13,
   "metadata": {
    "collapsed": true
   },
   "outputs": [],
   "source": [
    "filter_option = {'Attack': 180, 'Type':'Electric'}"
   ]
  },
  {
   "cell_type": "code",
   "execution_count": null,
   "metadata": {
    "collapsed": true
   },
   "outputs": [],
   "source": []
  }
 ],
 "metadata": {
  "anaconda-cloud": {},
  "kernelspec": {
   "display_name": "Python 2",
   "language": "python",
   "name": "python2"
  },
  "language_info": {
   "codemirror_mode": {
    "name": "ipython",
    "version": 2
   },
   "file_extension": ".py",
   "mimetype": "text/x-python",
   "name": "python",
   "nbconvert_exporter": "python",
   "pygments_lexer": "ipython2",
   "version": "2.7.13"
  }
 },
 "nbformat": 4,
 "nbformat_minor": 1
}
