{
 "cells": [
  {
   "cell_type": "code",
   "execution_count": 1,
   "metadata": {
    "collapsed": false
   },
   "outputs": [],
   "source": [
    "import pandas as pd\n",
    "import numpy as np\n",
    "import requests\n",
    "from bs4 import BeautifulSoup as bs\n",
    "import urllib, cStringIO\n",
    "import urllib2\n",
    "from PIL import Image\n",
    "import pickle\n",
    "from time import time\n",
    "import re\n",
    "import gzip\n",
    "import os\n",
    "from matplotlib import pyplot as plt\n",
    "%matplotlib inline\n",
    "import cv2\n",
    "from socket import error as SocketError\n",
    "import errno\n",
    "import boto3"
   ]
  },
  {
   "cell_type": "code",
   "execution_count": 2,
   "metadata": {
    "collapsed": false
   },
   "outputs": [],
   "source": [
    "zap = pd.read_csv('/Users/Gene/Desktop/dsihw/Capstone/zap.csv')"
   ]
  },
  {
   "cell_type": "code",
   "execution_count": 3,
   "metadata": {
    "collapsed": true
   },
   "outputs": [],
   "source": [
    "zap.colorcode = zap.colorcode.astype(str)"
   ]
  },
  {
   "cell_type": "code",
   "execution_count": 4,
   "metadata": {
    "collapsed": false
   },
   "outputs": [],
   "source": [
    "brand_dict = dict(zip(zap.brand_name.unique(),range(0,len(zap.brand_name.unique()))))\n",
    "shoe_dict = dict(zip(zap.shoe_name.unique(),range(0,len(zap.shoe_name.unique()))))\n",
    "color_dict = dict(zip(zap.colorway,zap.colorcode))"
   ]
  },
  {
   "cell_type": "code",
   "execution_count": 5,
   "metadata": {
    "collapsed": false
   },
   "outputs": [],
   "source": [
    "def img_name(row):\n",
    "    brand = row['brand_name']\n",
    "    shoe = row['shoe_name']\n",
    "    color = row['colorway']\n",
    "    return str(brand_dict[brand]) + '_' + str(shoe_dict[shoe]) + '_' + str(color_dict[color])\n",
    "        "
   ]
  },
  {
   "cell_type": "code",
   "execution_count": 6,
   "metadata": {
    "collapsed": false
   },
   "outputs": [],
   "source": [
    "def img_fetch(url):\n",
    "    sample = cStringIO.StringIO(urllib.urlopen(url).read())\n",
    "    img = Image.open(sample)\n",
    "    image_array = np.array(img)\n",
    "    resized_image_array = cv2.resize(image_array, (224, 224))\n",
    "    return resized_image_array"
   ]
  },
  {
   "cell_type": "code",
   "execution_count": 7,
   "metadata": {
    "collapsed": false
   },
   "outputs": [],
   "source": [
    "def img_dl(row):\n",
    "    views = ['lateralfrontleft','heelview','toeview','medialfrontright','topview']\n",
    "    row_imgs = map(lambda url: img_fetch(url), row[1][views].tolist())\n",
    "    shoe_views = dict(zip(views, row_imgs))\n",
    "    fname = img_name(row[1])\n",
    "    fileObject = open(fname, 'wb')\n",
    "    pickle.dump(shoe_views, fileObject)\n",
    "    fileObject.close()\n",
    "    return fname"
   ]
  },
  {
   "cell_type": "code",
   "execution_count": 33,
   "metadata": {
    "collapsed": false
   },
   "outputs": [],
   "source": [
    "def s3_upload(s3, row, bucket='capstoneshoes'):\n",
    "    try:\n",
    "        fname = img_dl(row)\n",
    "        s3.put_object(Bucket=bucket,Key=fname,Body=open(fname,'rb'))\n",
    "        print \"Success! added {}\".format(fname)\n",
    "        os.remove(fname)\n",
    "    except:\n",
    "        pass\n"
   ]
  },
  {
   "cell_type": "code",
   "execution_count": 34,
   "metadata": {
    "collapsed": true
   },
   "outputs": [],
   "source": [
    "s3_connection = boto3.client('s3')\n",
    "def zap_connect(x):\n",
    "    return s3_upload(s3_connection, x)"
   ]
  },
  {
   "cell_type": "code",
   "execution_count": 35,
   "metadata": {
    "collapsed": true
   },
   "outputs": [],
   "source": [
    "import multiprocessing\n",
    "from multiprocessing.pool import Pool"
   ]
  },
  {
   "cell_type": "code",
   "execution_count": 36,
   "metadata": {
    "collapsed": true
   },
   "outputs": [],
   "source": [
    "pool = Pool(processes=multiprocessing.cpu_count())"
   ]
  },
  {
   "cell_type": "code",
   "execution_count": 37,
   "metadata": {
    "collapsed": false
   },
   "outputs": [
    {
     "data": {
      "text/plain": [
       "[None, None, None, None]"
      ]
     },
     "execution_count": 37,
     "metadata": {},
     "output_type": "execute_result"
    }
   ],
   "source": [
    "pool.map(zap_connect, list(zap.iterrows())[0:4])"
   ]
  },
  {
   "cell_type": "code",
   "execution_count": null,
   "metadata": {
    "collapsed": true
   },
   "outputs": [],
   "source": []
  }
 ],
 "metadata": {
  "kernelspec": {
   "display_name": "Python 2",
   "language": "python",
   "name": "python2"
  },
  "language_info": {
   "codemirror_mode": {
    "name": "ipython",
    "version": 2
   },
   "file_extension": ".py",
   "mimetype": "text/x-python",
   "name": "python",
   "nbconvert_exporter": "python",
   "pygments_lexer": "ipython2",
   "version": "2.7.13"
  }
 },
 "nbformat": 4,
 "nbformat_minor": 2
}
