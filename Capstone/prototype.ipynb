{
 "cells": [
  {
   "cell_type": "code",
   "execution_count": 8,
   "metadata": {
    "collapsed": true
   },
   "outputs": [],
   "source": [
    "import cPickle\n",
    "import os\n",
    "import pandas as pd\n",
    "import multiprocessing\n",
    "from multiprocessing.pool import Pool\n",
    "import boto3"
   ]
  },
  {
   "cell_type": "code",
   "execution_count": 2,
   "metadata": {
    "collapsed": true
   },
   "outputs": [],
   "source": [
    "zappos = pd.read_csv('zap.csv')"
   ]
  },
  {
   "cell_type": "code",
   "execution_count": 3,
   "metadata": {
    "collapsed": true
   },
   "outputs": [],
   "source": [
    "zappos['brand_name_clean'] = zappos.brand_name.apply(lambda x: x.strip().lower())\n",
    "zappos['shoe_name_clean'] = zappos.shoe_name.apply(lambda x: x.strip().lower())"
   ]
  },
  {
   "cell_type": "code",
   "execution_count": 4,
   "metadata": {
    "collapsed": true
   },
   "outputs": [],
   "source": [
    "brands = zappos.brand_name_clean.unique()\n",
    "shoes = zappos.shoe_name_clean.unique()\n"
   ]
  },
  {
   "cell_type": "code",
   "execution_count": 5,
   "metadata": {
    "collapsed": true
   },
   "outputs": [],
   "source": [
    "brands_dict = dict(zip(brands, range(len(brands))))\n",
    "shoes_dict = dict(zip(shoes, range(len(shoes))))"
   ]
  },
  {
   "cell_type": "code",
   "execution_count": 20,
   "metadata": {
    "collapsed": true
   },
   "outputs": [],
   "source": [
    "def get_shoe_code(row):\n",
    "    brand_code = brands_dict[row['brand_name_clean']]\n",
    "    shoe_code = shoes_dict[row['shoe_name_clean']]\n",
    "    color_code = row['colorcode']\n",
    "    return str(brand_code) + '_' + str(shoe_code) + '_' + str(color_code)\n",
    "\n",
    "def get_img_array(url, resize=None):\n",
    "    img = np.array(bytearray(urllib.urlopen(url).read()), dtype='uint8')\n",
    "    img = cv2.imdecode(img, cv2.IMREAD_COLOR)\n",
    "    try:\n",
    "        img = cv2.resize(img, resize)\n",
    "        return img\n",
    "    except Exception, e:\n",
    "        raise Exception(e)\n",
    "        \n",
    "def grab_images(row):\n",
    "    view_points = [u'lateralfrontleft', u'heelview', u'toeview', u'medialfrontright', u'topview']\n",
    "    row_imgs = map(lambda url: get_img_array(url, (224, 224)), row[1][view_points].tolist())\n",
    "    shoe_views = dict(zip(view_points, row_imgs))\n",
    "    fname = get_shoe_code(row[1])\n",
    "    cPickle.dump(shoe_views, open(fname, 'wb'))\n",
    "    print'Success, Downloading: {}'.format(fname)\n",
    "    return fname \n",
    "\n",
    "        \n",
    "def create_s3_objects(s3, row, Bucket='zappos_shoes'):\n",
    "    try:\n",
    "        fname = grab_images(row)\n",
    "        s3.put_object(Bucket=Bucket, Key=fname, Body=open(fname, 'rb'))\n",
    "        print 'Succes, Uploaded to S3: {}'.format(fname)\n",
    "        os.remove(fname)\n",
    "    except:\n",
    "        fname = get_shoe_code(row[1])\n",
    "        print 'Failure: {}'.format(fname)\n",
    "        pass\n"
   ]
  },
  {
   "cell_type": "code",
   "execution_count": 21,
   "metadata": {
    "collapsed": false
   },
   "outputs": [],
   "source": [
    "s3_connection = boto3.client('s3')\n",
    "def zappos_connection(x):\n",
    "    return create_s3_objects(s3_connection, x)"
   ]
  },
  {
   "cell_type": "code",
   "execution_count": 31,
   "metadata": {
    "collapsed": false
   },
   "outputs": [
    {
     "data": {
      "text/plain": [
       "(0, brand_name                                                       Nike\n",
       " shoe_name                                                Flex RN 2017\n",
       " colorway                 Black/Metallic Hematite/Anthracite/Dark Grey\n",
       " colorcode                                                      684832\n",
       " lateralfrontleft    http://www.zappos.com/images/z/3/9/3/9/7/0/393...\n",
       " heelview            http://www.zappos.com/images/z/3/9/3/9/7/0/393...\n",
       " toeview             http://www.zappos.com/images/z/3/9/3/9/7/0/393...\n",
       " medialfrontright    http://www.zappos.com/images/z/3/9/3/9/7/0/393...\n",
       " topview             http://www.zappos.com/images/z/3/9/3/9/7/0/393...\n",
       " brand_name_clean                                                 nike\n",
       " shoe_name_clean                                          flex rn 2017\n",
       " Name: 0, dtype: object)"
      ]
     },
     "execution_count": 31,
     "metadata": {},
     "output_type": "execute_result"
    }
   ],
   "source": [
    "list(zappos.iterrows())[0]"
   ]
  },
  {
   "cell_type": "code",
   "execution_count": 30,
   "metadata": {
    "collapsed": false
   },
   "outputs": [
    {
     "name": "stdout",
     "output_type": "stream",
     "text": [
      "Failure: 0_0_684832\n"
     ]
    }
   ],
   "source": [
    "zappos_connection(list(zappos.iterrows())[0])"
   ]
  },
  {
   "cell_type": "code",
   "execution_count": 22,
   "metadata": {
    "collapsed": false
   },
   "outputs": [],
   "source": [
    "pool = Pool(processes=multiprocessing.cpu_count())\n"
   ]
  },
  {
   "cell_type": "code",
   "execution_count": 23,
   "metadata": {
    "collapsed": false
   },
   "outputs": [
    {
     "name": "stdout",
     "output_type": "stream",
     "text": [
      "0.18887591362\n"
     ]
    }
   ],
   "source": [
    "import time\n",
    "begin = time.time()\n",
    "pool.map(zappos_connection, zappos.loc[0:50].iterrows())\n",
    "print time.time() - begin"
   ]
  },
  {
   "cell_type": "code",
   "execution_count": 24,
   "metadata": {
    "collapsed": false
   },
   "outputs": [
    {
     "data": {
      "text/plain": [
       "<generator object iterrows at 0x10e16c230>"
      ]
     },
     "execution_count": 24,
     "metadata": {},
     "output_type": "execute_result"
    }
   ],
   "source": [
    "zappos.loc[0:50].iterrows()"
   ]
  },
  {
   "cell_type": "code",
   "execution_count": null,
   "metadata": {
    "collapsed": true
   },
   "outputs": [],
   "source": []
  }
 ],
 "metadata": {
  "kernelspec": {
   "display_name": "Python 2",
   "language": "python",
   "name": "python2"
  },
  "language_info": {
   "codemirror_mode": {
    "name": "ipython",
    "version": 2
   },
   "file_extension": ".py",
   "mimetype": "text/x-python",
   "name": "python",
   "nbconvert_exporter": "python",
   "pygments_lexer": "ipython2",
   "version": "2.7.13"
  }
 },
 "nbformat": 4,
 "nbformat_minor": 2
}
