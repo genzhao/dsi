{
 "cells": [
  {
   "cell_type": "code",
   "execution_count": 1,
   "metadata": {
    "collapsed": false
   },
   "outputs": [],
   "source": [
    "import pandas as pd\n",
    "import numpy as np\n",
    "import requests\n",
    "from bs4 import BeautifulSoup as bs\n",
    "import urllib, cStringIO\n",
    "import urllib2\n",
    "from PIL import Image\n",
    "import pickle\n",
    "from time import time\n",
    "import re\n",
    "import gzip\n",
    "import os\n",
    "from matplotlib import pyplot as plt\n",
    "%matplotlib inline\n",
    "import cv2\n",
    "from socket import error as SocketError\n",
    "import errno\n",
    "import boto3\n",
    "import cPickle\n",
    "import shutil"
   ]
  },
  {
   "cell_type": "code",
   "execution_count": 2,
   "metadata": {
    "collapsed": false
   },
   "outputs": [],
   "source": [
    "zap = pd.read_csv('/Users/Gene/Desktop/dsihw/Capstone/zap.csv')"
   ]
  },
  {
   "cell_type": "code",
   "execution_count": 3,
   "metadata": {
    "collapsed": true
   },
   "outputs": [],
   "source": [
    "zap.colorcode = zap.colorcode.astype(str)"
   ]
  },
  {
   "cell_type": "code",
   "execution_count": 4,
   "metadata": {
    "collapsed": false
   },
   "outputs": [],
   "source": [
    "brand_dict = dict(zip(zap.brand_name.unique(),range(0,len(zap.brand_name.unique()))))\n",
    "shoe_dict = dict(zip(zap.shoe_name.unique(),range(0,len(zap.shoe_name.unique()))))\n",
    "color_dict = dict(zip(zap.colorway,zap.colorcode))"
   ]
  },
  {
   "cell_type": "code",
   "execution_count": 5,
   "metadata": {
    "collapsed": false
   },
   "outputs": [],
   "source": [
    "def img_name(row):\n",
    "    brand = row['brand_name']\n",
    "    shoe = row['shoe_name']\n",
    "    color = row['colorway']\n",
    "    return str(brand_dict[brand]) + '_' + str(shoe_dict[shoe]) + '_' + str(color_dict[color])\n",
    "        "
   ]
  },
  {
   "cell_type": "code",
   "execution_count": 6,
   "metadata": {
    "collapsed": false
   },
   "outputs": [],
   "source": [
    "def img_fetch(url):\n",
    "    sample = cStringIO.StringIO(urllib.urlopen(url).read())\n",
    "    img = Image.open(sample)\n",
    "    image_array = np.array(img)\n",
    "    resized_image_array = cv2.resize(image_array, (224, 224))\n",
    "    return resized_image_array"
   ]
  },
  {
   "cell_type": "code",
   "execution_count": 7,
   "metadata": {
    "collapsed": false
   },
   "outputs": [],
   "source": [
    "def img_dl(row):\n",
    "    views = ['lateralfrontleft','heelview','toeview','medialfrontright','topview']\n",
    "    row_imgs = map(lambda url: img_fetch(url), row[1][views].tolist())\n",
    "    shoe_views = dict(zip(views, row_imgs))\n",
    "    shoe_name = (img_name(row[1]))\n",
    "    try:\n",
    "        shoe_path = os.makedirs(shoe_name)\n",
    "        for view in views:\n",
    "            fname = view\n",
    "            cPickle.dump(shoe_views[view], open(str(shoe_name)+'/'+fname, 'wb'))\n",
    "         \n",
    "    except:\n",
    "        pass\n"
   ]
  },
  {
   "cell_type": "code",
   "execution_count": 23,
   "metadata": {
    "collapsed": false,
    "scrolled": true
   },
   "outputs": [],
   "source": [
    "img_dl(list(zap.iterrows())[1])"
   ]
  },
  {
   "cell_type": "code",
   "execution_count": 9,
   "metadata": {
    "collapsed": false
   },
   "outputs": [],
   "source": [
    "def s3_upload(s3, row, bucket='capstoneshoes'):\n",
    "\n",
    "    shoename = img_dl(row)\n",
    "    shoe_name = img_name(row[1])\n",
    "    for subdir, dirs, files in os.walk('./{}'.format(shoe_name)):\n",
    "        for f in files:\n",
    "            full_path = os.path.join(subdir, f)\n",
    "            with open(full_path, 'rb') as data:\n",
    "                s3.put_object(Bucket=bucket,Key = full_path[len('./'):], Body = data)\n",
    "                print \"Success! added {}\".format(shoe_name)\n",
    "    shutil.rmtree('{}'.format(shoe_name))\n"
   ]
  },
  {
   "cell_type": "code",
   "execution_count": 10,
   "metadata": {
    "collapsed": false
   },
   "outputs": [],
   "source": [
    "shutil.rmtree('0_0_684832')"
   ]
  },
  {
   "cell_type": "code",
   "execution_count": 12,
   "metadata": {
    "collapsed": false
   },
   "outputs": [
    {
     "name": "stdout",
     "output_type": "stream",
     "text": [
      "capstoneshoes\n"
     ]
    }
   ],
   "source": [
    "s3 = boto3.resource('s3')\n",
    "for bucket in s3.buckets.all():\n",
    "    print(bucket.name)"
   ]
  },
  {
   "cell_type": "code",
   "execution_count": 14,
   "metadata": {
    "collapsed": true
   },
   "outputs": [],
   "source": [
    "s3_connection = boto3.client('s3')\n",
    "def zap_connect(x):\n",
    "    return s3_upload(s3_connection, x)"
   ]
  },
  {
   "cell_type": "code",
   "execution_count": 15,
   "metadata": {
    "collapsed": false
   },
   "outputs": [
    {
     "name": "stdout",
     "output_type": "stream",
     "text": [
      "Success! added 0_0_684832\n",
      "Success! added 0_0_684832\n",
      "Success! added 0_0_684832\n",
      "Success! added 0_0_684832\n",
      "Success! added 0_0_684832\n"
     ]
    }
   ],
   "source": [
    "s3_upload(s3_connection, list(zap.iterrows())[0])"
   ]
  },
  {
   "cell_type": "code",
   "execution_count": 22,
   "metadata": {
    "collapsed": false
   },
   "outputs": [
    {
     "name": "stdout",
     "output_type": "stream",
     "text": [
      "Success! added 0_0_684832\n",
      "Success! added 0_0_684832\n",
      "Success! added 0_0_684832\n",
      "Success! added 0_0_684832\n",
      "Success! added 0_0_684832\n"
     ]
    }
   ],
   "source": [
    "zap_connect(list(zap.iterrows())[0])"
   ]
  },
  {
   "cell_type": "code",
   "execution_count": 17,
   "metadata": {
    "collapsed": true
   },
   "outputs": [],
   "source": [
    "import multiprocessing\n",
    "from multiprocessing.pool import Pool"
   ]
  },
  {
   "cell_type": "code",
   "execution_count": 18,
   "metadata": {
    "collapsed": true
   },
   "outputs": [],
   "source": [
    "pool = Pool(processes=multiprocessing.cpu_count())"
   ]
  },
  {
   "cell_type": "code",
   "execution_count": 19,
   "metadata": {
    "collapsed": false,
    "scrolled": true
   },
   "outputs": [
    {
     "data": {
      "text/plain": [
       "[None, None, None, None]"
      ]
     },
     "execution_count": 19,
     "metadata": {},
     "output_type": "execute_result"
    }
   ],
   "source": [
    "pool.map(zap_connect, list(zap.iterrows())[0:4])"
   ]
  },
  {
   "cell_type": "code",
   "execution_count": 24,
   "metadata": {
    "collapsed": false
   },
   "outputs": [],
   "source": [
    "loaded_data=pickle.load(open('/Users/Gene/Desktop/dsihw/Capstone/0_0_684828/heelview'))"
   ]
  },
  {
   "cell_type": "code",
   "execution_count": 25,
   "metadata": {
    "collapsed": false
   },
   "outputs": [
    {
     "data": {
      "text/plain": [
       "<matplotlib.image.AxesImage at 0x11af9b210>"
      ]
     },
     "execution_count": 25,
     "metadata": {},
     "output_type": "execute_result"
    },
    {
     "data": {
      "image/png": "[encoded data removed]",
      "text/plain": [
       "<matplotlib.figure.Figure at 0x11b0ed990>"
      ]
     },
     "metadata": {},
     "output_type": "display_data"
    }
   ],
   "source": [
    "plt.imshow(loaded_data)"
   ]
  },
  {
   "cell_type": "code",
   "execution_count": null,
   "metadata": {
    "collapsed": true
   },
   "outputs": [],
   "source": []
  }
 ],
 "metadata": {
  "kernelspec": {
   "display_name": "Python 2",
   "language": "python",
   "name": "python2"
  },
  "language_info": {
   "codemirror_mode": {
    "name": "ipython",
    "version": 2
   },
   "file_extension": ".py",
   "mimetype": "text/x-python",
   "name": "python",
   "nbconvert_exporter": "python",
   "pygments_lexer": "ipython2",
   "version": "2.7.13"
  }
 },
 "nbformat": 4,
 "nbformat_minor": 2
}
