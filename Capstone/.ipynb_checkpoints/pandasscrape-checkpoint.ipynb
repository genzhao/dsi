{
 "cells": [
  {
   "cell_type": "code",
   "execution_count": 1,
   "metadata": {
    "collapsed": true
   },
   "outputs": [],
   "source": [
    "import pandas as pd"
   ]
  },
  {
   "cell_type": "code",
   "execution_count": 2,
   "metadata": {
    "collapsed": false
   },
   "outputs": [],
   "source": [
    "zappos = pd.read_csv('/users/Gene/Desktop/gzdsi7/nikescrape/nikescrape/spiders/zappos.csv')\n",
    "six = pd.read_csv('/users/Gene/Desktop/gzdsi7/nikescrape/nikescrape/spiders/6pm.csv')\n",
    "nike = pd.read_csv('/users/Gene/Desktop/gzdsi7/nikescrape/nikescrape/spiders/nike.csv')\n",
    "stadiumgoods = pd.read_csv('/users/Gene/Desktop/gzdsi7/nikescrape/nikescrape/spiders/stadiumgoods.csv')"
   ]
  },
  {
   "cell_type": "code",
   "execution_count": 3,
   "metadata": {
    "collapsed": false
   },
   "outputs": [
    {
     "name": "stdout",
     "output_type": "stream",
     "text": [
      "(20661, 11) (18006, 11) (2907, 9) (1726, 9)\n"
     ]
    }
   ],
   "source": [
    "print six.shape,zappos.shape,nike.shape,stadiumgoods.shape"
   ]
  },
  {
   "cell_type": "code",
   "execution_count": 10,
   "metadata": {
    "collapsed": false,
    "scrolled": true
   },
   "outputs": [
    {
     "data": {
      "text/html": [
       "<div>\n",
       "<style>\n",
       "    .dataframe thead tr:only-child th {\n",
       "        text-align: right;\n",
       "    }\n",
       "\n",
       "    .dataframe thead th {\n",
       "        text-align: left;\n",
       "    }\n",
       "\n",
       "    .dataframe tbody tr th {\n",
       "        vertical-align: top;\n",
       "    }\n",
       "</style>\n",
       "<table border=\"1\" class=\"dataframe\">\n",
       "  <thead>\n",
       "    <tr style=\"text-align: right;\">\n",
       "      <th></th>\n",
       "      <th>brand_name</th>\n",
       "      <th>shoe_name</th>\n",
       "      <th>colorway</th>\n",
       "      <th>colorcode</th>\n",
       "      <th>shoe_link</th>\n",
       "      <th>bottomview</th>\n",
       "      <th>lateralfrontleft</th>\n",
       "      <th>heelview</th>\n",
       "      <th>toeview</th>\n",
       "      <th>medialfrontright</th>\n",
       "      <th>topview</th>\n",
       "    </tr>\n",
       "  </thead>\n",
       "  <tbody>\n",
       "  </tbody>\n",
       "</table>\n",
       "</div>"
      ],
      "text/plain": [
       "Empty DataFrame\n",
       "Columns: [brand_name, shoe_name, colorway, colorcode, shoe_link, bottomview, lateralfrontleft, heelview, toeview, medialfrontright, topview]\n",
       "Index: []"
      ]
     },
     "execution_count": 10,
     "metadata": {},
     "output_type": "execute_result"
    }
   ],
   "source": [
    "six.head(0)"
   ]
  },
  {
   "cell_type": "code",
   "execution_count": 23,
   "metadata": {
    "collapsed": false
   },
   "outputs": [],
   "source": [
    "frames = [zappos,six]"
   ]
  },
  {
   "cell_type": "code",
   "execution_count": 27,
   "metadata": {
    "collapsed": false
   },
   "outputs": [],
   "source": [
    "test = pd.concat(frames, axis=0)"
   ]
  },
  {
   "cell_type": "code",
   "execution_count": null,
   "metadata": {
    "collapsed": true
   },
   "outputs": [],
   "source": []
  },
  {
   "cell_type": "code",
   "execution_count": 31,
   "metadata": {
    "collapsed": false
   },
   "outputs": [
    {
     "ename": "AttributeError",
     "evalue": "'DataFrame' object has no attribute 'brand_names'",
     "output_type": "error",
     "traceback": [
      "\u001b[0;31m---------------------------------------------------------------------------\u001b[0m",
      "\u001b[0;31mAttributeError\u001b[0m                            Traceback (most recent call last)",
      "\u001b[0;32m<ipython-input-31-9c837f37c6b2>\u001b[0m in \u001b[0;36m<module>\u001b[0;34m()\u001b[0m\n\u001b[0;32m----> 1\u001b[0;31m \u001b[0mtest\u001b[0m\u001b[0;34m.\u001b[0m\u001b[0mbrand_names\u001b[0m\u001b[0;34m.\u001b[0m\u001b[0mvalue_counts\u001b[0m\u001b[0;34m(\u001b[0m\u001b[0;34m)\u001b[0m\u001b[0;34m\u001b[0m\u001b[0m\n\u001b[0m",
      "\u001b[0;32m/anaconda/envs/dsi/lib/python2.7/site-packages/pandas/core/generic.pyc\u001b[0m in \u001b[0;36m__getattr__\u001b[0;34m(self, name)\u001b[0m\n\u001b[1;32m   2968\u001b[0m             \u001b[0;32mif\u001b[0m \u001b[0mname\u001b[0m \u001b[0;32min\u001b[0m \u001b[0mself\u001b[0m\u001b[0;34m.\u001b[0m\u001b[0m_info_axis\u001b[0m\u001b[0;34m:\u001b[0m\u001b[0;34m\u001b[0m\u001b[0m\n\u001b[1;32m   2969\u001b[0m                 \u001b[0;32mreturn\u001b[0m \u001b[0mself\u001b[0m\u001b[0;34m[\u001b[0m\u001b[0mname\u001b[0m\u001b[0;34m]\u001b[0m\u001b[0;34m\u001b[0m\u001b[0m\n\u001b[0;32m-> 2970\u001b[0;31m             \u001b[0;32mreturn\u001b[0m \u001b[0mobject\u001b[0m\u001b[0;34m.\u001b[0m\u001b[0m__getattribute__\u001b[0m\u001b[0;34m(\u001b[0m\u001b[0mself\u001b[0m\u001b[0;34m,\u001b[0m \u001b[0mname\u001b[0m\u001b[0;34m)\u001b[0m\u001b[0;34m\u001b[0m\u001b[0m\n\u001b[0m\u001b[1;32m   2971\u001b[0m \u001b[0;34m\u001b[0m\u001b[0m\n\u001b[1;32m   2972\u001b[0m     \u001b[0;32mdef\u001b[0m \u001b[0m__setattr__\u001b[0m\u001b[0;34m(\u001b[0m\u001b[0mself\u001b[0m\u001b[0;34m,\u001b[0m \u001b[0mname\u001b[0m\u001b[0;34m,\u001b[0m \u001b[0mvalue\u001b[0m\u001b[0;34m)\u001b[0m\u001b[0;34m:\u001b[0m\u001b[0;34m\u001b[0m\u001b[0m\n",
      "\u001b[0;31mAttributeError\u001b[0m: 'DataFrame' object has no attribute 'brand_names'"
     ]
    }
   ],
   "source": [
    "test.brand_names.value_counts()"
   ]
  },
  {
   "cell_type": "code",
   "execution_count": 19,
   "metadata": {
    "collapsed": false
   },
   "outputs": [
    {
     "data": {
      "text/plain": [
       "Nike                        974\n",
       "SKECHERS                    744\n",
       "PUMA                        716\n",
       "New Balance                 528\n",
       "New Balance Kids            434\n",
       "Puma Kids                   427\n",
       "ASICS                       422\n",
       "Under Armour                369\n",
       "Lacoste                     346\n",
       "adidas                      332\n",
       "Converse                    329\n",
       "SKECHERS KIDS               328\n",
       "Vans                        323\n",
       "Saucony                     318\n",
       "Fila                        311\n",
       "DC                          264\n",
       "Reebok                      259\n",
       "ECCO                        243\n",
       "Merrell                     235\n",
       "Keds                        199\n",
       "Ryka                        198\n",
       "Nike Kids                   197\n",
       "Stride Rite                 182\n",
       "Under Armour Kids           162\n",
       "Steve Madden                161\n",
       "Clarks                      161\n",
       "Vans Kids                   160\n",
       "SKECHERS Performance        160\n",
       "Converse Kids               154\n",
       "Sperry                      151\n",
       "                           ... \n",
       "IVY KIRZHNER                  1\n",
       "Andre Assous                  1\n",
       "Jeffery-West                  1\n",
       "LOVE Moschino                 1\n",
       "Alegria                       1\n",
       "Hatley Kids                   1\n",
       "Proenza Schouler              1\n",
       "Kenneth Cole Black Label      1\n",
       "NoSoX by Deer Stags           1\n",
       "Deer Stags Kids               1\n",
       "Birkenstock                   1\n",
       "Khombu                        1\n",
       "gotta FLURT                   1\n",
       "Generic Surplus               1\n",
       "Hunter                        1\n",
       "GBX                           1\n",
       "Tommy Hilfiger Kids           1\n",
       "Dekline                       1\n",
       "CoSTUME NATIONAL              1\n",
       "Maine Woods                   1\n",
       "Markus Lupfer                 1\n",
       "BCBGeneration                 1\n",
       "Wilson                        1\n",
       "Cesare Paciotti               1\n",
       "1.STATE                       1\n",
       "Capezio                       1\n",
       "Franco Sarto                  1\n",
       "Rupert Sanderson              1\n",
       "Eleven Paris                  1\n",
       "Enzo Angiolini                1\n",
       "Name: brand_name, Length: 516, dtype: int64"
      ]
     },
     "execution_count": 19,
     "metadata": {},
     "output_type": "execute_result"
    }
   ],
   "source": [
    "six.brand_name.value_counts()"
   ]
  },
  {
   "cell_type": "code",
   "execution_count": null,
   "metadata": {
    "collapsed": true
   },
   "outputs": [],
   "source": []
  }
 ],
 "metadata": {
  "kernelspec": {
   "display_name": "Python 2",
   "language": "python",
   "name": "python2"
  },
  "language_info": {
   "codemirror_mode": {
    "name": "ipython",
    "version": 2
   },
   "file_extension": ".py",
   "mimetype": "text/x-python",
   "name": "python",
   "nbconvert_exporter": "python",
   "pygments_lexer": "ipython2",
   "version": "2.7.13"
  }
 },
 "nbformat": 4,
 "nbformat_minor": 2
}
